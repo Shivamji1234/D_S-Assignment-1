{
 "cells": [
  {
   "cell_type": "markdown",
   "id": "66854714-c097-4945-9ee9-9ca750f44004",
   "metadata": {},
   "source": [
    "# Q1."
   ]
  },
  {
   "cell_type": "code",
   "execution_count": 2,
   "id": "c07046d8-0b6e-490e-a886-fec56f697e7b",
   "metadata": {},
   "outputs": [],
   "source": [
    "a=\"abc\"\n",
    "b=23.5\n",
    "c=[a,b]\n",
    "d=(a,b)"
   ]
  },
  {
   "cell_type": "code",
   "execution_count": 3,
   "id": "50608b15-61c0-42b4-8ff9-d271e6cfdc6d",
   "metadata": {},
   "outputs": [],
   "source": [
    "# Q2."
   ]
  },
  {
   "cell_type": "code",
   "execution_count": null,
   "id": "6740a3a3-88cc-45d5-a335-00a38ddab48a",
   "metadata": {},
   "outputs": [],
   "source": [
    "var1 = ‘‘ #string\n",
    "var2 = ‘[ DS , ML , Python]’  #string\n",
    "var3 = [ ‘DS’ , ’ML’ , ‘Python’ ]  #list\n",
    "var4 = 1. #float"
   ]
  },
  {
   "cell_type": "code",
   "execution_count": null,
   "id": "1fa6535b-993a-4da7-981b-cb5e124e528d",
   "metadata": {},
   "outputs": [],
   "source": [
    "# Q3"
   ]
  },
  {
   "cell_type": "code",
   "execution_count": null,
   "id": "c52fccea-2110-4ebf-a72b-3c4376186cb6",
   "metadata": {},
   "outputs": [],
   "source": [
    "\"\"\"(i) /\n",
    "(ii) %\n",
    "(iii) //\n",
    "(iv) **   \"\"\"\n",
    "#(i) for division\n",
    "#(2) for remainder\n",
    "#(3) for round figure division value\n",
    "#(4) works as an exponentiation operator"
   ]
  },
  {
   "cell_type": "code",
   "execution_count": null,
   "id": "d9b35359-1644-442e-93d0-843bc716cec0",
   "metadata": {},
   "outputs": [],
   "source": [
    "# Q4. Create a list of length 10 of your choice containing multiple types of data. Using for loop print the element and its data type."
   ]
  },
  {
   "cell_type": "code",
   "execution_count": 7,
   "id": "d1de5dd2-387e-4879-8d6e-308921785219",
   "metadata": {},
   "outputs": [
    {
     "name": "stdout",
     "output_type": "stream",
     "text": [
      "abc <class 'str'>\n",
      "1 <class 'int'>\n",
      "[1, 2, 3] <class 'list'>\n",
      "{1, 2, 3} <class 'set'>\n",
      "True <class 'bool'>\n",
      "{'a': 1} <class 'dict'>\n",
      "(1, 2) <class 'tuple'>\n",
      "12.2 <class 'float'>\n",
      "12 <class 'str'>\n",
      "12 <class 'int'>\n"
     ]
    }
   ],
   "source": [
    "a=[\"abc\",1,[1,2,3],{1,2,3},True,{\"a\":1},(1,2),12.2,\"12\",12]\n",
    "for i in a:\n",
    "    print(i,type(i))"
   ]
  },
  {
   "cell_type": "code",
   "execution_count": null,
   "id": "c5c31e36-c375-440f-b887-b0431edb7484",
   "metadata": {},
   "outputs": [],
   "source": [
    "# Q5. Using a while loop, verify if the number A is purely divisible by number B and if so then how many times it can be divisible."
   ]
  },
  {
   "cell_type": "code",
   "execution_count": 28,
   "id": "0ff2fe92-55a7-4d68-985b-2eee2ce51651",
   "metadata": {},
   "outputs": [
    {
     "name": "stdout",
     "output_type": "stream",
     "text": [
      "A is purely divisible by number B and 2 time\n"
     ]
    }
   ],
   "source": [
    "A=100\n",
    "B=5\n",
    "t=0\n",
    "\n",
    "    \n",
    "while A%B==0:\n",
    "    \n",
    "    A=A/B\n",
    "    t+=1\n",
    "    if A%B!=0:\n",
    "        print(\"A is purely divisible by number B and %d time\"%(t))\n",
    "if t==0 :\n",
    "    print(\"A is not divisible by number B\")\n",
    "    \n",
    "        \n",
    "    \n",
    "\n",
    "    \n",
    "    \n",
    "    \n",
    "        \n"
   ]
  },
  {
   "cell_type": "code",
   "execution_count": null,
   "id": "e18c5e50-6975-4238-bd67-426eb7899dba",
   "metadata": {},
   "outputs": [],
   "source": [
    "# Q6. Create a list containing 25 int type data. Using for loop and if-else condition print if the element is divisible by 3 or not."
   ]
  },
  {
   "cell_type": "code",
   "execution_count": 30,
   "id": "44070b5c-d707-441b-9359-065465d81ac6",
   "metadata": {},
   "outputs": [
    {
     "name": "stdout",
     "output_type": "stream",
     "text": [
      "1 is not divisible by 3\n",
      "2 is not divisible by 3\n",
      "3 is divisible by 3\n",
      "4 is not divisible by 3\n",
      "5 is not divisible by 3\n",
      "6 is divisible by 3\n",
      "7 is not divisible by 3\n",
      "8 is not divisible by 3\n",
      "9 is divisible by 3\n",
      "10 is not divisible by 3\n",
      "11 is not divisible by 3\n",
      "12 is divisible by 3\n",
      "13 is not divisible by 3\n",
      "14 is not divisible by 3\n",
      "15 is divisible by 3\n",
      "16 is not divisible by 3\n",
      "17 is not divisible by 3\n",
      "18 is divisible by 3\n",
      "19 is not divisible by 3\n",
      "20 is not divisible by 3\n",
      "21 is divisible by 3\n",
      "22 is not divisible by 3\n",
      "23 is not divisible by 3\n",
      "24 is divisible by 3\n",
      "25 is not divisible by 3\n"
     ]
    }
   ],
   "source": [
    "a=[1,2,3,4,5,6,7,8,9,10,11,12,13,14,15,16,17,18,19,20,21,22,23,24,25]\n",
    "for i in a:\n",
    "    if i%3==0:\n",
    "        print(\"%d is divisible by 3\"%(i))\n",
    "    else:\n",
    "         print(\"%d is not divisible by 3\"%(i))"
   ]
  },
  {
   "cell_type": "code",
   "execution_count": null,
   "id": "08c53234-a2f5-45b0-9ed2-29c0cbc4695b",
   "metadata": {},
   "outputs": [],
   "source": [
    "#Q7. What do you understand about mutable and immutable data types? Give examples for both showing this property."
   ]
  },
  {
   "cell_type": "code",
   "execution_count": null,
   "id": "f344f1d0-f30f-429f-9db3-8d3a8fc32e81",
   "metadata": {},
   "outputs": [],
   "source": [
    "#mutable\n",
    "a=[1,2,3]\n",
    "a.append(4) #it can be changed\n"
   ]
  },
  {
   "cell_type": "code",
   "execution_count": null,
   "id": "ce24cb1b-e94d-4034-b9ee-e7828bb89ff8",
   "metadata": {},
   "outputs": [],
   "source": [
    "#immutable\n",
    "a=(1,2,3) #tuple cannot be changed"
   ]
  }
 ],
 "metadata": {
  "kernelspec": {
   "display_name": "Python 3 (ipykernel)",
   "language": "python",
   "name": "python3"
  },
  "language_info": {
   "codemirror_mode": {
    "name": "ipython",
    "version": 3
   },
   "file_extension": ".py",
   "mimetype": "text/x-python",
   "name": "python",
   "nbconvert_exporter": "python",
   "pygments_lexer": "ipython3",
   "version": "3.10.8"
  }
 },
 "nbformat": 4,
 "nbformat_minor": 5
}
