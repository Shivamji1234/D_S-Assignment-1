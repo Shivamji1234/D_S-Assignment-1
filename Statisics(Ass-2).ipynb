{
 "cells": [
  {
   "cell_type": "code",
   "execution_count": null,
   "id": "9b220eef-3bfc-4e4a-9819-a38d631b6ca9",
   "metadata": {},
   "outputs": [],
   "source": [
    "1. What are the three measures of central tendency?"
   ]
  },
  {
   "cell_type": "code",
   "execution_count": null,
   "id": "ff071ae6-7a6a-4a5e-a885-6497b58012b3",
   "metadata": {},
   "outputs": [],
   "source": [
    "Mean ,Median ,Mode are three measures of central tendency."
   ]
  },
  {
   "cell_type": "code",
   "execution_count": null,
   "id": "0dce939d-871e-483c-9067-8967863b4dca",
   "metadata": {},
   "outputs": [],
   "source": [
    "Q2. What is the difference between the mean, median, and mode? How are they used to measure the \n",
    "central tendency of a dataset?"
   ]
  },
  {
   "cell_type": "code",
   "execution_count": null,
   "id": "79c5e41b-a115-49e0-a476-77b804c7d97c",
   "metadata": {},
   "outputs": [],
   "source": [
    "The mean, median, and mode are three different measures of central tendency used to describe the center or typical value of a dataset. They differ in how they are calculated and how they respond to the characteristics of the data:\n",
    "\n",
    "1. **Mean:**\n",
    "   - The mean is calculated by adding up all the values in a dataset and dividing by the number of values.\n",
    "   - It represents the arithmetic average of the data.\n",
    "   - The mean is sensitive to extreme values (outliers) and can be significantly influenced by them.\n",
    "   - It's commonly used when the data is normally distributed and doesn't have extreme outliers.\n",
    "\n",
    "2. **Median:**\n",
    "   - The median is the middle value when the data is arranged in order (either ascending or descending).\n",
    "   - If there's an even number of values, the median is the average of the two middle values.\n",
    "   - The median is less sensitive to extreme values and outliers compared to the mean.\n",
    "   - It's often used when the data is skewed or contains outliers, providing a more robust measure of central tendency.\n",
    "\n",
    "3. **Mode:**\n",
    "   - The mode is the value that appears most frequently in a dataset.\n",
    "   - A dataset can have one mode (unimodal), multiple modes (multimodal), or no mode if all values occur with the same frequency.\n",
    "   - The mode is used to identify the most common value(s) in the data.\n",
    "   - It's suitable for nominal or categorical data and can be used for any type of data.\n",
    "\n",
    "\n",
    "- **Mean** is useful for datasets with a roughly symmetric distribution and no extreme outliers. It provides a precise measure of central tendency but can be influenced by outliers.\n",
    "\n",
    "- **Median** is effective when the data is skewed or contains outliers. It's a robust measure of central tendency because it's not easily affected by extreme values.\n",
    "\n",
    "- **Mode** is used primarily for nominal or categorical data to identify the most common category. It's also applicable to quantitative data but is less commonly used than the mean and median.\n",
    "\n"
   ]
  },
  {
   "cell_type": "code",
   "execution_count": null,
   "id": "c2f04ca9-6c87-44b4-8c4a-3ff33df1944c",
   "metadata": {},
   "outputs": [],
   "source": [
    "Q3. Measure the three measures of central tendency for the given height data:\n",
    "\n",
    " [178,177,176,177,178.2,178,175,179,180,175,178.9,176.2,177,172.5,178,176.5]"
   ]
  },
  {
   "cell_type": "code",
   "execution_count": 4,
   "id": "0d35a045-f23c-4265-a038-78d0b38e9c0c",
   "metadata": {},
   "outputs": [
    {
     "data": {
      "text/plain": [
       "177.01875"
      ]
     },
     "execution_count": 4,
     "metadata": {},
     "output_type": "execute_result"
    }
   ],
   "source": [
    "import numpy as np\n",
    "height=[178,177,176,177,178.2,178,175,179,180,175,178.9,176.2,177,172.5,178,176.5]\n",
    "height=np.array(height)\n",
    "np.mean(height)"
   ]
  },
  {
   "cell_type": "code",
   "execution_count": 2,
   "id": "bb5d88dd-8c78-499e-a7c6-51cea1a8b1fb",
   "metadata": {},
   "outputs": [
    {
     "data": {
      "text/plain": [
       "177.0"
      ]
     },
     "execution_count": 2,
     "metadata": {},
     "output_type": "execute_result"
    }
   ],
   "source": [
    "np.median(height)"
   ]
  },
  {
   "cell_type": "code",
   "execution_count": 9,
   "id": "4159abc1-eb39-48cd-b69e-14b6ed09ae9c",
   "metadata": {},
   "outputs": [
    {
     "data": {
      "text/plain": [
       "array([177.])"
      ]
     },
     "execution_count": 9,
     "metadata": {},
     "output_type": "execute_result"
    }
   ],
   "source": [
    "import pandas as pd\n",
    "height=[178,177,176,177,178.2,178,175,179,180,175,178.9,176.2,177,172.5,178,176.5]\n",
    "df=pd.DataFrame(height,columns=['height'])\n",
    "df.mode().values[0]"
   ]
  },
  {
   "cell_type": "code",
   "execution_count": 11,
   "id": "4f461c6d-fefb-404a-9ced-0679f6a883ee",
   "metadata": {},
   "outputs": [
    {
     "data": {
      "text/plain": [
       "<AxesSubplot: ylabel='Count'>"
      ]
     },
     "execution_count": 11,
     "metadata": {},
     "output_type": "execute_result"
    },
    {
     "data": {
      "image/png": "[encoded data removed]",
      "text/plain": [
       "<Figure size 640x480 with 1 Axes>"
      ]
     },
     "metadata": {},
     "output_type": "display_data"
    }
   ],
   "source": [
    "import seaborn as sns\n",
    "height=[178,177,176,177,178.2,178,175,179,180,175,178.9,176.2,177,172.5,178,176.5]\n",
    "sns.histplot(height,kde=True)\n"
   ]
  },
  {
   "cell_type": "code",
   "execution_count": null,
   "id": "f1af597b-91a5-46ab-80d9-e6145580efc8",
   "metadata": {},
   "outputs": [],
   "source": [
    "Q4. Find the standard deviation for the given data:\n",
    "\n",
    "[178,177,176,177,178.2,178,175,179,180,175,178.9,176.2,177,172.5,178,176.5]"
   ]
  },
  {
   "cell_type": "code",
   "execution_count": 12,
   "id": "d04cac02-8719-445e-8c6e-1f84efbf28c0",
   "metadata": {},
   "outputs": [
    {
     "data": {
      "text/plain": [
       "1.7885814036548633"
      ]
     },
     "execution_count": 12,
     "metadata": {},
     "output_type": "execute_result"
    }
   ],
   "source": [
    "import numpy as np\n",
    "data=[178,177,176,177,178.2,178,175,179,180,175,178.9,176.2,177,172.5,178,176.5]\n",
    "np.std(data)"
   ]
  },
  {
   "cell_type": "code",
   "execution_count": null,
   "id": "52cbbba6-0c73-44b1-8c19-9f3b5c3b2f9a",
   "metadata": {},
   "outputs": [],
   "source": [
    "Q5. How are measures of dispersion such as range, variance, and standard deviation used to describe \n",
    "the spread of a dataset? Provide an example"
   ]
  },
  {
   "cell_type": "code",
   "execution_count": null,
   "id": "c245b7a4-7499-4f88-9b1a-1ddb230286fa",
   "metadata": {},
   "outputs": [],
   "source": [
    "Measures of dispersion, such as range, variance, and standard deviation, are used to describe the spread or variability of a dataset. They provide insights into how individual data points are distributed around the central tendency (mean, median, or mode) of the dataset. Here's how each of these measures is used, along with an example:\n",
    "\n",
    "1. **Range:**\n",
    "   - The range measures the spread of data by calculating the difference between the maximum and minimum values in the dataset.\n",
    "   - It provides a simple and intuitive measure of the total spread.\n",
    "   - A larger range indicates greater variability.\n",
    "   \n",
    "**Example:** Consider two datasets of exam scores:\n",
    "\n",
    "   Dataset A: [80, 85, 90, 95, 100]\n",
    "   Dataset B: [60, 70, 80, 90, 100]\n",
    "\n",
    "   - The range for Dataset A is 100 - 80 = 20.\n",
    "   - The range for Dataset B is 100 - 60 = 40.\n",
    "   \n",
    "   Dataset B has a larger range, indicating greater variability in scores.\n",
    "\n",
    "2. **Variance:**\n",
    "   - Variance measures the average of the squared differences between each data point and the mean of the dataset.\n",
    "   - It quantifies how data points deviate from the mean.\n",
    "   - A larger variance suggests more significant spread or dispersion.\n",
    "\n",
    "**Example:** Consider a dataset of exam scores: [85, 90, 78, 90, 92].\n",
    "\n",
    "   - Calculate the mean: (85 + 90 + 78 + 90 + 92) / 5 = 87\n",
    "   - Calculate the squared differences from the mean:\n",
    "     - (85 - 87)^2 = 4\n",
    "     - (90 - 87)^2 = 9\n",
    "     - (78 - 87)^2 = 81\n",
    "     - (90 - 87)^2 = 9\n",
    "     - (92 - 87)^2 = 25\n",
    "   - Calculate the variance: (4 + 9 + 81 + 9 + 25) / 5 = 25.6\n",
    "\n",
    "   A higher variance indicates more significant variability in scores around the mean.\n",
    "\n",
    "3. **Standard Deviation:**\n",
    "   - The standard deviation is the square root of the variance.\n",
    "   - It measures the typical or average amount by which data points deviate from the mean.\n",
    "   - A larger standard deviation suggests greater variability.\n",
    "\n",
    "**Example:** Using the same dataset as above:\n",
    "\n",
    "   - Calculate the standard deviation: √(25.6) ≈ 5.06\n",
    "\n",
    "   The standard deviation of approximately 5.06 indicates that, on average, exam scores deviate from the mean by about 5.06 points.\n",
    "\n"
   ]
  },
  {
   "cell_type": "code",
   "execution_count": null,
   "id": "bbca3854-49a0-4ce5-a905-d807b933d611",
   "metadata": {},
   "outputs": [],
   "source": [
    "Q6. What is a Venn diagram?"
   ]
  },
  {
   "cell_type": "code",
   "execution_count": null,
   "id": "a50c9779-c0f3-4dfd-8bda-c928e16143d8",
   "metadata": {},
   "outputs": [],
   "source": [
    "A Venn diagram is a graphical representation used to illustrate the relationships and commonalities between sets or groups. It consists of overlapping circles or ellipses, each representing a set, with the overlapping regions showing the elements that belong to both sets. Venn diagrams are a helpful tool for visualizing the intersections and differences between various categories or datasets.\n",
    "\n",
    "Key features of a Venn diagram include:\n",
    "\n",
    "1. **Circles or Ellipses:** Each circle or ellipse represents a set or category. The size of the circles is typically not significant and can vary based on the data being represented.\n",
    "\n",
    "2. **Overlapping Regions:** Overlapping regions show the elements that are common to two or more sets. The size of these regions depends on the number of elements shared between the sets.\n",
    "\n",
    "3. **Non-overlapping Regions:** The portions of the circles or ellipses that do not overlap represent the elements unique to each set."
   ]
  },
  {
   "cell_type": "code",
   "execution_count": null,
   "id": "93c985e4-4d32-405b-9136-c2c0f9a30491",
   "metadata": {},
   "outputs": [],
   "source": [
    "Q7. For the two given sets A = (2,3,4,5,6,7) & B = (0,2,6,8,10). Find:\n",
    "\n",
    "(i) \tA ^ B\n",
    "\n",
    "(ii)\tA ⋃ B"
   ]
  },
  {
   "cell_type": "code",
   "execution_count": 14,
   "id": "1f49afca-c5ec-4e35-9e19-c0a0f825a45a",
   "metadata": {},
   "outputs": [
    {
     "data": {
      "text/plain": [
       "array([2, 6])"
      ]
     },
     "execution_count": 14,
     "metadata": {},
     "output_type": "execute_result"
    }
   ],
   "source": [
    "A = [2,3,4,5,6,7]\n",
    "B = [0,2,6,8,10]\n",
    "import numpy as np\n",
    "np.intersect1d(A,B)"
   ]
  },
  {
   "cell_type": "code",
   "execution_count": 15,
   "id": "b723b66b-ba69-4316-a08c-fa0ff49743e8",
   "metadata": {},
   "outputs": [
    {
     "data": {
      "text/plain": [
       "array([ 0,  2,  3,  4,  5,  6,  7,  8, 10])"
      ]
     },
     "execution_count": 15,
     "metadata": {},
     "output_type": "execute_result"
    }
   ],
   "source": [
    "np.union1d(A,B)"
   ]
  },
  {
   "cell_type": "code",
   "execution_count": null,
   "id": "cb59d757-3472-4fa7-9d0e-171f08130532",
   "metadata": {},
   "outputs": [],
   "source": [
    "Q8. What do you understand about skewness in data?"
   ]
  },
  {
   "cell_type": "code",
   "execution_count": null,
   "id": "28b0910e-f0d4-41e1-a8ff-c0f6c7fd8d99",
   "metadata": {},
   "outputs": [],
   "source": [
    "Skewness in data is a statistical measure that describes the asymmetry or lack of symmetry in the distribution of data. It indicates whether the data is skewed (lopsided) to the left (negatively skewed) or to the right (positively skewed) relative to a symmetric, bell-shaped distribution like the normal distribution.\n",
    "\n",
    "Here are the key points to understand about skewness in data:\n",
    "\n",
    "1. **Positive Skewness (Right Skewed):**\n",
    "   - In a positively skewed distribution, the tail on the right side (the upper tail) is longer or fatter than the left side (lower tail).\n",
    "   - The majority of data points are clustered on the left side of the distribution, with fewer high values on the right side.\n",
    "   - The mean is typically greater than the median in a positively skewed distribution because the long right tail pulls the mean in that direction.\n",
    "   - Positive skewness is sometimes called right skewness because the tail points to the right.\n",
    "\n",
    "  \n",
    "2. **Negative Skewness (Left Skewed):**\n",
    "   - In a negatively skewed distribution, the tail on the left side (the lower tail) is longer or fatter than the right side (upper tail).\n",
    "   - Most data points are concentrated on the right side of the distribution, with fewer low values on the left side.\n",
    "   - The mean is typically less than the median in a negatively skewed distribution because the long left tail drags the mean in that direction.\n",
    "   - Negative skewness is sometimes called left skewness because the tail points to the left.\n",
    "\n",
    "3. **Symmetrical Distribution (No Skewness):**\n",
    "   - In a symmetrical distribution, the data is evenly distributed around the mean, with both tails being of equal length.\n",
    "   - The mean and median are approximately equal in a symmetrical distribution.\n",
    "   - The normal distribution is a classic example of a symmetrical distribution.\n",
    "\n",
    "Skewness is an important aspect of data analysis because it provides insights into the shape and characteristics of a dataset. It can affect the choice of statistical methods and the interpretation of results. Identifying and understanding skewness is crucial when making inferences and drawing conclusions from data."
   ]
  },
  {
   "cell_type": "code",
   "execution_count": null,
   "id": "599b6882-52be-4942-831a-d78d3cfb1175",
   "metadata": {},
   "outputs": [],
   "source": [
    "Q9. If a data is right skewed then what will be the position of median with respect to mean?"
   ]
  },
  {
   "cell_type": "code",
   "execution_count": null,
   "id": "da3e5474-48c8-4605-880a-e36beaf8609f",
   "metadata": {},
   "outputs": [],
   "source": [
    "The median will be less than the mean."
   ]
  },
  {
   "cell_type": "code",
   "execution_count": null,
   "id": "0dd7826d-e11a-438f-96a1-179be3b8aa60",
   "metadata": {},
   "outputs": [],
   "source": [
    "Q10. Explain the difference between covariance and correlation. How are these measures used in \n",
    "statistical analysis?"
   ]
  },
  {
   "cell_type": "code",
   "execution_count": null,
   "id": "e0c4eeb3-cf42-4ead-ac58-5e2b255916f2",
   "metadata": {},
   "outputs": [],
   "source": [
    "Certainly, let's simplify the difference between covariance and correlation:\n",
    "\n",
    "**Covariance**:\n",
    "- Covariance tells you whether two variables tend to move in the same direction or in opposite directions.\n",
    "- It's a raw measure and doesn't provide a clear scale for the strength of the relationship.\n",
    "- Covariance can be positive (both variables increase together), negative (one increases while the other decreases), or zero (no clear pattern).\n",
    "- It doesn't tell you how strong or weak the relationship is.\n",
    "\n",
    "**Correlation**:\n",
    "- Correlation also shows how two variables are related, but it's a standardized measure.\n",
    "- It not only tells you the direction (positive or negative) but also the strength of the relationship.\n",
    "- Correlation values range from -1 (perfect negative relationship) to 1 (perfect positive relationship), with 0 meaning no linear relationship.\n",
    "- It's easier to interpret because it gives you a clear idea of how tightly the variables are linked and in what direction.\n",
    "\n"
   ]
  },
  {
   "cell_type": "code",
   "execution_count": null,
   "id": "c543966e-297c-4b8d-8455-262c7f8dc6f7",
   "metadata": {},
   "outputs": [],
   "source": [
    "Q11. What is the formula for calculating the sample mean? Provide an example calculation for a \n",
    "dataset."
   ]
  },
  {
   "cell_type": "code",
   "execution_count": null,
   "id": "3ebdf180-1589-4697-90ea-5a7587c6a7d9",
   "metadata": {},
   "outputs": [],
   "source": [
    "The formula for calculating the sample mean (average) of a dataset is:\n",
    "\n",
    "**Sample Mean (x̄) = (Sum of all data values) / (Number of data values)**\n",
    "\n",
    "Here's an example calculation for a dataset:\n",
    "\n",
    "Let's say you have the following dataset of exam scores for a class:\n",
    "\n",
    "80, 85, 78, 90, 92, 78, 88, 90, 88, 85\n",
    "\n",
    "To calculate the sample mean:\n",
    "\n",
    "1. Add up all the data values: \n",
    "\n",
    "   Sum = 80 + 85 + 78 + 90 + 92 + 78 + 88 + 90 + 88 + 85 = 874\n",
    "\n",
    "2. Count the number of data values:\n",
    "\n",
    "   Number of data values (n) = 10\n",
    "\n",
    "3. Use the formula to calculate the sample mean:\n",
    "\n",
    "   Sample Mean (x̄) = Sum / n\n",
    "\n",
    "   Sample Mean (x̄) = 874 / 10\n",
    "\n",
    "   Sample Mean (x̄) = 87.4\n",
    "\n",
    "So, the sample mean for this dataset is 87.4, which represents the average exam score for the class."
   ]
  },
  {
   "cell_type": "code",
   "execution_count": null,
   "id": "36a78bc7-c9f0-4c05-8709-0cc44e2a0198",
   "metadata": {},
   "outputs": [],
   "source": [
    "Q12. For a normal distribution data what is the relationship between its measure of central tendency?"
   ]
  },
  {
   "cell_type": "code",
   "execution_count": null,
   "id": "28015995-4c78-4890-9343-e506f13c65c9",
   "metadata": {},
   "outputs": [],
   "source": [
    "In a normal distribution (also known as a Gaussian distribution or bell curve), there is a specific and important relationship between its measures of central tendency, which include the mean, median, and mode:\n",
    "\n",
    "1. **Mean (μ):**\n",
    "   - In a normal distribution, the mean is located at the center of the distribution.\n",
    "   - The mean is equal to the median, which means μ = median.\n",
    "   - This is a defining characteristic of a perfectly symmetrical normal distribution.\n",
    "\n",
    "2. **Median:**\n",
    "   - The median in a normal distribution is also located at the center.\n",
    "   - It is equal to the mean, so median = μ.\n",
    "   - This symmetry means that half of the data points are on the left side of the median, and half are on the right side.\n",
    "\n",
    "3. **Mode:**\n",
    "   - The mode in a normal distribution is also at the center.\n",
    "   - There is only one mode in a normal distribution (unimodal).\n",
    "   - The mode, like the mean and median, is equal to μ (mode = μ).\n"
   ]
  },
  {
   "cell_type": "code",
   "execution_count": null,
   "id": "36ed5bf8-a670-4ea6-8ab0-bf13eea08640",
   "metadata": {},
   "outputs": [],
   "source": [
    "Q13. How is covariance different from correlation?"
   ]
  },
  {
   "cell_type": "code",
   "execution_count": null,
   "id": "495ec172-91a1-4f5e-9bf0-9961f14fca22",
   "metadata": {},
   "outputs": [],
   "source": [
    "Covariance and correlation are both measures used to describe the relationship between two variables, but they differ in several key ways:\n",
    "\n",
    "**Covariance:**\n",
    "\n",
    "1. **Definition:** Covariance measures how two variables change together. It quantifies the degree to which changes in one variable correspond to changes in another.\n",
    "\n",
    "2. **Units:** The units of covariance are the product of the units of the two variables being measured. Therefore, the scale of covariance can be difficult to interpret, as it depends on the units of the variables.\n",
    "\n",
    "3. **Range:** Covariance can take on any real value, which makes it difficult to compare the strength of relationships between different pairs of variables.\n",
    "\n",
    "4. **Direction:** The sign of covariance (positive or negative) indicates the direction of the relationship. Positive covariance means that when one variable increases, the other tends to increase as well, and vice versa for negative covariance.\n",
    "\n",
    "5. **Strength:** Covariance doesn't provide a standardized measure of the strength of the relationship. Therefore, it's challenging to determine whether the relationship is strong or weak.\n",
    "\n",
    "\n",
    "**Correlation:**\n",
    "\n",
    "1. **Definition:** Correlation measures the strength and direction of the linear relationship between two variables. It quantifies how well changes in one variable can predict changes in another.\n",
    "\n",
    "2. **Units:** Correlation is a unitless measure, which means it doesn't depend on the units of the variables being measured. This makes it easy to interpret and compare across different situations.\n",
    "\n",
    "3. **Range:** The correlation coefficient ranges from -1 to 1. A value of -1 indicates a perfect negative linear relationship, 0 indicates no linear relationship, and 1 indicates a perfect positive linear relationship.\n",
    "\n",
    "4. **Direction:** Correlation provides information about the direction of the relationship, just like covariance. A positive correlation means that as one variable increases, the other tends to increase, and vice versa for a negative correlation.\n",
    "\n",
    "5. **Strength:** Correlation provides a standardized measure of the strength of the linear relationship. The absolute value of the correlation coefficient tells you how closely the data points cluster around a straight line. The closer the absolute value is to 1, the stronger the relationship.\n",
    "\n"
   ]
  },
  {
   "cell_type": "code",
   "execution_count": null,
   "id": "0d363ff8-b634-4557-b3cb-ccd6019be3f5",
   "metadata": {},
   "outputs": [],
   "source": [
    "Q14. How do outliers affect measures of central tendency and dispersion? Provide an example?"
   ]
  },
  {
   "cell_type": "code",
   "execution_count": null,
   "id": "254a1841-7045-4965-8a10-905c64fb9339",
   "metadata": {},
   "outputs": [],
   "source": [
    "Outliers can significantly affect measures of central tendency (mean, median, mode) and measures of dispersion (range, variance, standard deviation, etc.) in a dataset. Here's how they can impact these measures, along with an example:\n",
    "\n",
    "**Measures of Central Tendency:**\n",
    "\n",
    "1. **Mean:**\n",
    "   - Outliers can strongly influence the mean, especially if they are extreme values.\n",
    "   - A single high or low outlier can pull the mean in its direction.\n",
    "   - The mean is not robust to outliers.\n",
    "\n",
    "2. **Median:**\n",
    "   - The median is less affected by outliers compared to the mean.\n",
    "   - It represents the middle value when data is ordered, so extreme values do not pull it as much.\n",
    "   - The median is more robust to outliers.\n",
    "\n",
    "3. **Mode:**\n",
    "   - The mode represents the most common value(s) in the dataset.\n",
    "   - Outliers generally have minimal impact on the mode, as they are less likely to be the most common values.\n",
    "   - The mode is also robust to outliers.\n",
    "  \n",
    "\n",
    "**Measures of Dispersion:**\n",
    "\n",
    "1. **Range:**\n",
    "   - Outliers can significantly affect the range, especially if they are extreme values.\n",
    "   - The range expands to accommodate extreme values.\n",
    "   \n",
    "  \n",
    "2. **Variance and Standard Deviation:**\n",
    "   - Outliers can substantially increase the variance and standard deviation.\n",
    "   - The squared differences between data points and the mean become larger when outliers are present.\n",
    "   \n",
    "  \n",
    "3. **Interquartile Range (IQR):**\n",
    "   - The IQR, which measures the spread of data within the middle 50%, is less affected by outliers.\n",
    "   - Outliers typically lie outside the whiskers of a box plot used to visualize the IQR.\n",
    "   \n",
    " "
   ]
  },
  {
   "cell_type": "code",
   "execution_count": 35,
   "id": "d5d2b833-3760-41b6-b8be-0db14037556b",
   "metadata": {},
   "outputs": [
    {
     "data": {
      "image/png": "[encoded data removed]",
      "text/plain": [
       "<Figure size 1200x500 with 2 Axes>"
      ]
     },
     "metadata": {},
     "output_type": "display_data"
    }
   ],
   "source": [
    "import numpy as np\n",
    "import seaborn as sns\n",
    "import matplotlib.pyplot as plt\n",
    "\n",
    "np.random.seed(0)\n",
    "data_with_outliers = np.concatenate([np.random.normal(50, 10, 100), [150]])\n",
    "data_without_outliers = np.random.normal(50, 10, 100)\n",
    "plt.figure(figsize=(12, 5))\n",
    "\n",
    "# Subplot 1: Data with outliers\n",
    "plt.subplot(1, 2, 1)\n",
    "sns.boxplot(data=data_with_outliers, orient=\"v\", width=0.2, palette=\"Set2\")\n",
    "plt.title(\"Data with Outliers\")\n",
    "\n",
    "# Subplot 2: Data without outliers\n",
    "plt.subplot(1, 2, 2)\n",
    "sns.boxplot(data=data_without_outliers, orient=\"v\", width=0.2, palette=\"Set2\")\n",
    "plt.title(\"Data without Outliers\")\n",
    "plt.show()\n"
   ]
  },
  {
   "cell_type": "code",
   "execution_count": null,
   "id": "8f9c076a-ffab-4279-a5c9-314931c96dbd",
   "metadata": {},
   "outputs": [],
   "source": []
  }
 ],
 "metadata": {
  "kernelspec": {
   "display_name": "Python 3 (ipykernel)",
   "language": "python",
   "name": "python3"
  },
  "language_info": {
   "codemirror_mode": {
    "name": "ipython",
    "version": 3
   },
   "file_extension": ".py",
   "mimetype": "text/x-python",
   "name": "python",
   "nbconvert_exporter": "python",
   "pygments_lexer": "ipython3",
   "version": "3.10.8"
  }
 },
 "nbformat": 4,
 "nbformat_minor": 5
}
