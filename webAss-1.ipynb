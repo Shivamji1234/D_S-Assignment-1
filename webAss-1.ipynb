{
 "cells": [
  {
   "cell_type": "code",
   "execution_count": null,
   "id": "74416e4a-91b4-4cf5-a976-5e53d5060aa8",
   "metadata": {},
   "outputs": [],
   "source": [
    "Q1."
   ]
  },
  {
   "cell_type": "code",
   "execution_count": null,
   "id": "b8eb6dae-4fef-436f-b704-53a31f2f04a7",
   "metadata": {},
   "outputs": [],
   "source": [
    "Web scraping is automated data extraction from websites. \n",
    "It is used for data analysis, content aggregation, and automated testing.\n",
    "Applications include price comparison, financial data collection, and sentiment analysis on social media."
   ]
  },
  {
   "cell_type": "code",
   "execution_count": null,
   "id": "174d766c-b9e2-4f80-90ac-bf7fca388e99",
   "metadata": {},
   "outputs": [],
   "source": [
    "Q2."
   ]
  },
  {
   "cell_type": "code",
   "execution_count": null,
   "id": "1d8dd11d-5494-4e24-90dd-ff7696d355d3",
   "metadata": {},
   "outputs": [],
   "source": [
    "Web scraping methods include using HTTP libraries like requests, BeautifulSoup, urllib.request"
   ]
  },
  {
   "cell_type": "code",
   "execution_count": null,
   "id": "99a7fff0-1445-4430-94a4-b0fd03068060",
   "metadata": {},
   "outputs": [],
   "source": [
    "Q3."
   ]
  },
  {
   "cell_type": "code",
   "execution_count": null,
   "id": "64e75cfa-299d-4932-9033-5f32e1a73a94",
   "metadata": {},
   "outputs": [],
   "source": [
    "Beautiful Soup is a Python library for parsing HTML and XML documents, simplifying the process of extracting data from web pages. It provides a convenient interface to navigate and search the HTML tree, making web scraping tasks easier and faster.\n",
    "bs(data,\"html.parser\")"
   ]
  },
  {
   "cell_type": "code",
   "execution_count": null,
   "id": "f4dd8125-829e-4e37-905d-fae0bc49e140",
   "metadata": {},
   "outputs": [],
   "source": [
    "Q4."
   ]
  },
  {
   "cell_type": "code",
   "execution_count": null,
   "id": "866156ab-65fb-4a63-adae-bafbbb3b76e7",
   "metadata": {},
   "outputs": [],
   "source": [
    "Flask is used in this web scraping project to create a web application that allows users to interact with the web scraping functionality. It provides a lightweight and easy-to-use framework for building the frontend and handling user requests."
   ]
  },
  {
   "cell_type": "markdown",
   "id": "da54184b-ef6a-470f-aa64-043e073073d7",
   "metadata": {},
   "source": [
    "Q5."
   ]
  },
  {
   "cell_type": "code",
   "execution_count": null,
   "id": "c280436d-2869-4666-8516-727ff1951678",
   "metadata": {},
   "outputs": [],
   "source": [
    "Beanstack and pipline"
   ]
  }
 ],
 "metadata": {
  "kernelspec": {
   "display_name": "Python 3 (ipykernel)",
   "language": "python",
   "name": "python3"
  },
  "language_info": {
   "codemirror_mode": {
    "name": "ipython",
    "version": 3
   },
   "file_extension": ".py",
   "mimetype": "text/x-python",
   "name": "python",
   "nbconvert_exporter": "python",
   "pygments_lexer": "ipython3",
   "version": "3.10.8"
  }
 },
 "nbformat": 4,
 "nbformat_minor": 5
}
