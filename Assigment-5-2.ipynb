{
 "cells": [
  {
   "cell_type": "code",
   "execution_count": null,
   "id": "7034e28d-fd08-4cab-b357-2f943c922f94",
   "metadata": {},
   "outputs": [],
   "source": [
    "Q1."
   ]
  },
  {
   "cell_type": "code",
   "execution_count": null,
   "id": "0b9d772b-7033-4d9c-974f-fe834779e71a",
   "metadata": {},
   "outputs": [],
   "source": [
    "By inhertied super class Exception and use that property in our custom class so its need for Exception class"
   ]
  },
  {
   "cell_type": "code",
   "execution_count": null,
   "id": "4922f1a6-aa7a-4796-b979-391e8df017ba",
   "metadata": {},
   "outputs": [],
   "source": [
    "Q2."
   ]
  },
  {
   "cell_type": "code",
   "execution_count": null,
   "id": "61aedadd-ca06-4ac2-a617-5aebbc0953a0",
   "metadata": {},
   "outputs": [],
   "source": []
  },
  {
   "cell_type": "code",
   "execution_count": null,
   "id": "defc06fe-e686-4b88-a4b6-c2ce975dd358",
   "metadata": {},
   "outputs": [],
   "source": [
    "Q3."
   ]
  },
  {
   "cell_type": "code",
   "execution_count": null,
   "id": "16b91293-d40b-4b7f-a085-d0c6027c63de",
   "metadata": {},
   "outputs": [],
   "source": [
    "ArithmeticError is simply an error that occurs during numeric calculations."
   ]
  },
  {
   "cell_type": "code",
   "execution_count": 1,
   "id": "87595f1d-c25d-4305-a7ae-c1b276a66d93",
   "metadata": {},
   "outputs": [
    {
     "name": "stdout",
     "output_type": "stream",
     "text": [
      "division by zero\n"
     ]
    }
   ],
   "source": [
    "#example\n",
    "try:\n",
    "    a=10/0\n",
    "except ArithmeticError as e:\n",
    "    print(e)"
   ]
  },
  {
   "cell_type": "code",
   "execution_count": 6,
   "id": "39c41270-fcd5-4655-813d-2903b34e2907",
   "metadata": {},
   "outputs": [
    {
     "name": "stdout",
     "output_type": "stream",
     "text": [
      "float division by zero\n"
     ]
    }
   ],
   "source": [
    "try:\n",
    "    a=10.0/0.0\n",
    "    \n",
    "except ArithmeticError as e:\n",
    "    print(e)"
   ]
  },
  {
   "cell_type": "code",
   "execution_count": null,
   "id": "3f7aa408-0fa8-44db-b544-abd26896acf0",
   "metadata": {},
   "outputs": [],
   "source": [
    "Q4"
   ]
  },
  {
   "cell_type": "code",
   "execution_count": null,
   "id": "16eee220-10c5-45c6-8a34-9168e5fe83cc",
   "metadata": {},
   "outputs": [],
   "source": [
    "it raised when an index or a key is not found for a sequence or dictionary respectively."
   ]
  },
  {
   "cell_type": "code",
   "execution_count": 7,
   "id": "910a93be-3b03-41b3-9630-faf71ab6609b",
   "metadata": {},
   "outputs": [
    {
     "name": "stdout",
     "output_type": "stream",
     "text": [
      "list index out of range\n"
     ]
    }
   ],
   "source": [
    "#example\n",
    "try:\n",
    "    a=[1,2]\n",
    "    print(a[2])\n",
    "except IndexError as e:\n",
    "    print(e)\n",
    "    "
   ]
  },
  {
   "cell_type": "code",
   "execution_count": 10,
   "id": "46509fe6-f58b-482e-8499-53cc78f427c1",
   "metadata": {},
   "outputs": [
    {
     "name": "stdout",
     "output_type": "stream",
     "text": [
      "'grape'\n"
     ]
    }
   ],
   "source": [
    "try:\n",
    "    my_dict = {'apple': 1, 'banana': 2, 'orange': 3}\n",
    "    print(my_dict['grape']) \n",
    "\n",
    "except KeyError as e:\n",
    "    print(e)\n"
   ]
  },
  {
   "cell_type": "code",
   "execution_count": null,
   "id": "76c310dc-1f36-43dc-ac2f-85cb2c86c084",
   "metadata": {},
   "outputs": [],
   "source": [
    "Q5"
   ]
  },
  {
   "cell_type": "code",
   "execution_count": null,
   "id": "d553016c-ba97-4f30-95d9-cf56daec2cd8",
   "metadata": {},
   "outputs": [],
   "source": [
    "ImportError occured when we use try to import things that is not present in python libery"
   ]
  },
  {
   "cell_type": "code",
   "execution_count": 12,
   "id": "a1445225-43ea-49de-91dd-152554656923",
   "metadata": {},
   "outputs": [
    {
     "name": "stdout",
     "output_type": "stream",
     "text": [
      "No module named 'w'\n"
     ]
    }
   ],
   "source": [
    "#example\n",
    "try:\n",
    "    import w\n",
    "except ImportError as e:\n",
    "    print(e)"
   ]
  },
  {
   "cell_type": "code",
   "execution_count": null,
   "id": "17bf2ff3-0929-45c4-88aa-97c83ae72b11",
   "metadata": {},
   "outputs": [],
   "source": [
    "No module named error is raised when Python  cannot find the module or we can say ModuleNotFoundError."
   ]
  },
  {
   "cell_type": "code",
   "execution_count": null,
   "id": "9e9a9b4d-8d32-47fb-a752-75df5b46db44",
   "metadata": {},
   "outputs": [],
   "source": [
    "Q6."
   ]
  },
  {
   "cell_type": "code",
   "execution_count": 14,
   "id": "1fe0edac-db9e-42fb-831a-30ff29f4b806",
   "metadata": {},
   "outputs": [
    {
     "name": "stdout",
     "output_type": "stream",
     "text": [
      "division by zero\n"
     ]
    }
   ],
   "source": [
    "try:\n",
    "    x = 10 / 0\n",
    "except ZeroDivisionError as e:\n",
    "    print( e)\n"
   ]
  },
  {
   "cell_type": "code",
   "execution_count": null,
   "id": "b84d5c96-1d5c-438b-b58a-521e42bb61f7",
   "metadata": {},
   "outputs": [],
   "source": [
    "Avoid using base class  Exception inplace of it use the class of its exception"
   ]
  },
  {
   "cell_type": "code",
   "execution_count": 16,
   "id": "a86d224d-786e-4647-ae28-9c95075d812a",
   "metadata": {},
   "outputs": [
    {
     "name": "stdout",
     "output_type": "stream",
     "text": [
      "Caught KeyError: 'orange'\n"
     ]
    }
   ],
   "source": [
    "try:\n",
    "    fruits = {'apple': 1, 'banana': 2}\n",
    "    print(fruits['orange'])\n",
    "except KeyError as e:\n",
    "    print(\"Caught KeyError:\", e)"
   ]
  },
  {
   "cell_type": "code",
   "execution_count": null,
   "id": "5b1233b3-0d1e-4ebe-ae02-238308078b17",
   "metadata": {},
   "outputs": [],
   "source": []
  }
 ],
 "metadata": {
  "kernelspec": {
   "display_name": "Python 3 (ipykernel)",
   "language": "python",
   "name": "python3"
  },
  "language_info": {
   "codemirror_mode": {
    "name": "ipython",
    "version": 3
   },
   "file_extension": ".py",
   "mimetype": "text/x-python",
   "name": "python",
   "nbconvert_exporter": "python",
   "pygments_lexer": "ipython3",
   "version": "3.10.8"
  }
 },
 "nbformat": 4,
 "nbformat_minor": 5
}
