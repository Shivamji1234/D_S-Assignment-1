{
 "cells": [
  {
   "cell_type": "code",
   "execution_count": null,
   "id": "a7df845b-5dc7-46ac-a775-0dc6655a876e",
   "metadata": {},
   "outputs": [],
   "source": [
    "Q1."
   ]
  },
  {
   "cell_type": "code",
   "execution_count": null,
   "id": "d6cb88f6-51a2-455d-8b21-074d2371bba0",
   "metadata": {},
   "outputs": [],
   "source": [
    "An exception is an event, which occurs during the execution of a program that disrupts the normal flow of the program's instructions.\n",
    "and syntax error happen when dont write proper indentetion of code"
   ]
  },
  {
   "cell_type": "code",
   "execution_count": null,
   "id": "989ea151-fb5a-403f-84b3-a60569bed46f",
   "metadata": {},
   "outputs": [],
   "source": [
    "Q2"
   ]
  },
  {
   "cell_type": "code",
   "execution_count": null,
   "id": "da96ec42-27f3-4bda-ad10-c341aa287440",
   "metadata": {},
   "outputs": [],
   "source": [
    "Then its show error and process of excution stop"
   ]
  },
  {
   "cell_type": "code",
   "execution_count": 1,
   "id": "84a9607d-2b80-4f63-b7de-b8fccb166ba7",
   "metadata": {},
   "outputs": [
    {
     "ename": "ZeroDivisionError",
     "evalue": "division by zero",
     "output_type": "error",
     "traceback": [
      "\u001b[0;31m---------------------------------------------------------------------------\u001b[0m",
      "\u001b[0;31mZeroDivisionError\u001b[0m                         Traceback (most recent call last)",
      "Cell \u001b[0;32mIn[1], line 2\u001b[0m\n\u001b[1;32m      1\u001b[0m \u001b[38;5;66;03m#example\u001b[39;00m\n\u001b[0;32m----> 2\u001b[0m a\u001b[38;5;241m=\u001b[39m\u001b[38;5;241;43m10\u001b[39;49m\u001b[38;5;241;43m/\u001b[39;49m\u001b[38;5;241;43m0\u001b[39;49m\n",
      "\u001b[0;31mZeroDivisionError\u001b[0m: division by zero"
     ]
    }
   ],
   "source": [
    "#example\n",
    "a=10/0\n",
    "# so its show zeroDivisionError"
   ]
  },
  {
   "cell_type": "code",
   "execution_count": null,
   "id": "405cb889-ea44-45a8-8547-ebc857bb77f8",
   "metadata": {},
   "outputs": [],
   "source": [
    "Q3."
   ]
  },
  {
   "cell_type": "code",
   "execution_count": null,
   "id": "b58ad10b-7f52-49ee-b8af-6ca390a50875",
   "metadata": {},
   "outputs": [],
   "source": [
    "try and except used for handel exception error"
   ]
  },
  {
   "cell_type": "code",
   "execution_count": 2,
   "id": "28e78a57-700c-400a-ad44-8cedd894cd1a",
   "metadata": {},
   "outputs": [
    {
     "name": "stdout",
     "output_type": "stream",
     "text": [
      "division by zero\n"
     ]
    }
   ],
   "source": [
    "#example\n",
    "try:\n",
    "    a=10/0\n",
    "except Exception as e:\n",
    "    print(e)"
   ]
  },
  {
   "cell_type": "code",
   "execution_count": null,
   "id": "63905c9e-155b-40c6-aa0a-bc76419ea83a",
   "metadata": {},
   "outputs": [],
   "source": [
    "Q4."
   ]
  },
  {
   "cell_type": "code",
   "execution_count": null,
   "id": "53058fc5-3ac7-4f53-86d4-ef37f0f02d05",
   "metadata": {},
   "outputs": [],
   "source": [
    "1.The try block lets you test a block of code for error and else excute only when no error occured."
   ]
  },
  {
   "cell_type": "code",
   "execution_count": null,
   "id": "46641c31-042d-40ce-a850-434ceeb27c4c",
   "metadata": {},
   "outputs": [],
   "source": [
    "2.finally it excute in all stuation ."
   ]
  },
  {
   "cell_type": "code",
   "execution_count": null,
   "id": "49b39f3a-3043-47d7-b450-aa4bec45c191",
   "metadata": {},
   "outputs": [],
   "source": [
    "3.raise help in  raise an exception."
   ]
  },
  {
   "cell_type": "code",
   "execution_count": null,
   "id": "928c5ea0-9377-4047-9023-657a3b3f68fb",
   "metadata": {},
   "outputs": [],
   "source": [
    "Q5."
   ]
  },
  {
   "cell_type": "code",
   "execution_count": null,
   "id": "61e3bd34-094f-4090-813b-5bc658db5e93",
   "metadata": {},
   "outputs": [],
   "source": [
    "it is made by the user for statisfy some of its need. \n",
    "It is not an buildin in system.\n",
    "It need to statisfy some condition of user."
   ]
  },
  {
   "cell_type": "code",
   "execution_count": 5,
   "id": "13629521-9da9-4585-9e14-553d371ad902",
   "metadata": {},
   "outputs": [
    {
     "ename": "error",
     "evalue": "insufficent balance and balance is 1000",
     "output_type": "error",
     "traceback": [
      "\u001b[0;31m---------------------------------------------------------------------------\u001b[0m",
      "\u001b[0;31merror\u001b[0m                                     Traceback (most recent call last)",
      "Cell \u001b[0;32mIn[5], line 14\u001b[0m\n\u001b[1;32m     11\u001b[0m         balance\u001b[38;5;241m=\u001b[39m\u001b[38;5;241m1000\u001b[39m\u001b[38;5;241m-\u001b[39m\u001b[38;5;28mint\u001b[39m(money)\n\u001b[1;32m     12\u001b[0m         \u001b[38;5;28mprint\u001b[39m(\u001b[38;5;124m\"\u001b[39m\u001b[38;5;124mremainig amount is \u001b[39m\u001b[38;5;132;01m%d\u001b[39;00m\u001b[38;5;124m\"\u001b[39m\u001b[38;5;241m%\u001b[39m(balance))\n\u001b[0;32m---> 14\u001b[0m \u001b[43maccount\u001b[49m\u001b[43m(\u001b[49m\u001b[38;5;241;43m1020\u001b[39;49m\u001b[43m)\u001b[49m\n",
      "Cell \u001b[0;32mIn[5], line 9\u001b[0m, in \u001b[0;36maccount\u001b[0;34m(money)\u001b[0m\n\u001b[1;32m      7\u001b[0m balance\u001b[38;5;241m=\u001b[39m\u001b[38;5;241m1000\u001b[39m\n\u001b[1;32m      8\u001b[0m \u001b[38;5;28;01mif\u001b[39;00m money\u001b[38;5;241m>\u001b[39mbalance:\n\u001b[0;32m----> 9\u001b[0m     \u001b[38;5;28;01mraise\u001b[39;00m error(\u001b[38;5;124m\"\u001b[39m\u001b[38;5;124minsufficent balance and balance is \u001b[39m\u001b[38;5;132;01m%d\u001b[39;00m\u001b[38;5;124m\"\u001b[39m\u001b[38;5;241m%\u001b[39m(balance))\n\u001b[1;32m     10\u001b[0m \u001b[38;5;28;01melse\u001b[39;00m:\n\u001b[1;32m     11\u001b[0m     balance\u001b[38;5;241m=\u001b[39m\u001b[38;5;241m1000\u001b[39m\u001b[38;5;241m-\u001b[39m\u001b[38;5;28mint\u001b[39m(money)\n",
      "\u001b[0;31merror\u001b[0m: insufficent balance and balance is 1000"
     ]
    }
   ],
   "source": [
    "#example\n",
    "class error(Exception):\n",
    "    def __init__(self,msg):\n",
    "        self.msg=msg\n",
    "\n",
    "def account(money):\n",
    "    balance=1000\n",
    "    if money>balance:\n",
    "        raise error(\"insufficent balance and balance is %d\"%(balance))\n",
    "    else:\n",
    "        balance=1000-int(money)\n",
    "        print(\"remainig amount is %d\"%(balance))\n",
    "\n",
    "account(1020)\n",
    "    "
   ]
  },
  {
   "cell_type": "code",
   "execution_count": null,
   "id": "43b089ea-b12a-4ba5-9e87-c272c602b2e9",
   "metadata": {},
   "outputs": [],
   "source": [
    "Q6."
   ]
  },
  {
   "cell_type": "code",
   "execution_count": 7,
   "id": "88ef0a8b-2b8b-4014-9889-36a3a8f45833",
   "metadata": {},
   "outputs": [
    {
     "name": "stdout",
     "output_type": "stream",
     "text": [
      "insufficent balance and balance is 1000\n"
     ]
    }
   ],
   "source": [
    "class error(Exception):\n",
    "    def __init__(self,msg):\n",
    "        self.msg=msg\n",
    "\n",
    "def account(money):\n",
    "    try:\n",
    "        balance=1000\n",
    "        if money>balance:\n",
    "            raise error(\"insufficent balance and balance is %d\"%(balance))\n",
    "    except error as e:\n",
    "        print(e)\n",
    "        \n",
    "    else:\n",
    "        balance=1000-int(money)\n",
    "        print(\"remainig amount is %d\"%(balance))\n",
    "\n",
    "account(1020)"
   ]
  },
  {
   "cell_type": "code",
   "execution_count": null,
   "id": "0e8ba3a8-245a-40c4-9b86-2f46181a80a8",
   "metadata": {},
   "outputs": [],
   "source": []
  }
 ],
 "metadata": {
  "kernelspec": {
   "display_name": "Python 3 (ipykernel)",
   "language": "python",
   "name": "python3"
  },
  "language_info": {
   "codemirror_mode": {
    "name": "ipython",
    "version": 3
   },
   "file_extension": ".py",
   "mimetype": "text/x-python",
   "name": "python",
   "nbconvert_exporter": "python",
   "pygments_lexer": "ipython3",
   "version": "3.10.8"
  }
 },
 "nbformat": 4,
 "nbformat_minor": 5
}
