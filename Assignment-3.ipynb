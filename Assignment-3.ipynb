{
 "cells": [
  {
   "cell_type": "code",
   "execution_count": null,
   "id": "bcab4e4e-f92d-4d6c-a990-a6d99b4e41a9",
   "metadata": {},
   "outputs": [],
   "source": [
    "Q1. Which keyword is used to create a function? Create a function to return a list of odd numbers in the\n",
    "range of 1 to 25."
   ]
  },
  {
   "cell_type": "code",
   "execution_count": 1,
   "id": "102e9d14-a4a2-4f39-a804-517609e63169",
   "metadata": {},
   "outputs": [
    {
     "data": {
      "text/plain": [
       "[1, 3, 5, 7, 9, 11, 13, 15, 17, 19, 21, 23, 25]"
      ]
     },
     "execution_count": 1,
     "metadata": {},
     "output_type": "execute_result"
    }
   ],
   "source": [
    "#  def keyword is used to create a function\n",
    "def odd():\n",
    "    od=[]\n",
    "    for i in range(1,26):\n",
    "        if i%2!=0:\n",
    "            od.append(i)\n",
    "    return od\n",
    "odd()"
   ]
  },
  {
   "cell_type": "code",
   "execution_count": null,
   "id": "056e57e3-dbc9-404a-aa2b-93e9be34d935",
   "metadata": {},
   "outputs": [],
   "source": [
    "Q2. Why *args and **kwargs is used in some functions? Create a function each for *args and **kwargs\n",
    "to demonstrate their use."
   ]
  },
  {
   "cell_type": "code",
   "execution_count": 3,
   "id": "ab10e44a-8fa6-48c9-ba40-9279998041d4",
   "metadata": {},
   "outputs": [
    {
     "data": {
      "text/plain": [
       "(1, 2)"
      ]
     },
     "execution_count": 3,
     "metadata": {},
     "output_type": "execute_result"
    }
   ],
   "source": [
    "# *args for return tuple and **kwargs for return dictionary\n",
    "def tup(*args):\n",
    "    return args\n",
    "def dic(**kwargs):\n",
    "    return kwargs\n",
    "tup(1,2)\n"
   ]
  },
  {
   "cell_type": "code",
   "execution_count": 4,
   "id": "edfe82fd-b253-4bcb-903f-6f1ec57a1a09",
   "metadata": {},
   "outputs": [
    {
     "data": {
      "text/plain": [
       "{'a': 1, 'b': 2}"
      ]
     },
     "execution_count": 4,
     "metadata": {},
     "output_type": "execute_result"
    }
   ],
   "source": [
    "dic(a=1,b=2)"
   ]
  },
  {
   "cell_type": "code",
   "execution_count": null,
   "id": "c31058fb-49df-40d8-b4d7-1b12c98d7403",
   "metadata": {},
   "outputs": [],
   "source": [
    "Q3. What is an iterator in python? Name the method used to initialise the iterator object and the method\n",
    "used for iteration. Use these methods to print the first five elements of the given list [2, 4, 6, 8, 10, 12, 14,\n",
    "16, 18, 20]."
   ]
  },
  {
   "cell_type": "code",
   "execution_count": 6,
   "id": "a6de3242-811c-4c45-8f00-976df91dcb9f",
   "metadata": {},
   "outputs": [
    {
     "name": "stdout",
     "output_type": "stream",
     "text": [
      "2\n",
      "4\n",
      "6\n",
      "8\n",
      "10\n"
     ]
    }
   ],
   "source": [
    "# iterator object like str,list are known to be iterator in python\n",
    "#iter() function use to iterator object iterated\n",
    "l=[2, 4, 6, 8, 10, 12, 14,16, 18, 20]\n",
    "l=iter(l)\n",
    "for i in range(5):\n",
    "    print(next(l))"
   ]
  },
  {
   "cell_type": "code",
   "execution_count": null,
   "id": "e08b4fb1-381d-401b-a476-df3da009e60c",
   "metadata": {},
   "outputs": [],
   "source": [
    "Q4. What is a generator function in python? Why yield keyword is used? Give an example of a generator\n",
    "function."
   ]
  },
  {
   "cell_type": "code",
   "execution_count": null,
   "id": "b1e90024-d8e4-4f80-83f2-45bdec03633f",
   "metadata": {},
   "outputs": [],
   "source": [
    "generator function return callable object\n",
    "yieid help is return callable object"
   ]
  },
  {
   "cell_type": "code",
   "execution_count": 13,
   "id": "ae6eda41-fd90-482d-8d5b-83d21e08e399",
   "metadata": {},
   "outputs": [
    {
     "data": {
      "text/plain": [
       "[0, 1, 2, 3, 4, 5, 6, 7]"
      ]
     },
     "execution_count": 13,
     "metadata": {},
     "output_type": "execute_result"
    }
   ],
   "source": [
    "def gen():\n",
    "    for i in range(8):\n",
    "        yield i\n",
    "list(gen()) "
   ]
  },
  {
   "cell_type": "code",
   "execution_count": null,
   "id": "2624d9ce-5a28-425a-8a3d-e74c9bf7c599",
   "metadata": {},
   "outputs": [],
   "source": [
    "Q5. Create a generator function for prime numbers less than 1000. Use the next() method to print the\n",
    "first 20 prime numbers."
   ]
  },
  {
   "cell_type": "code",
   "execution_count": 48,
   "id": "9bc54a5e-56e1-42dc-bdd6-81a60dd3104d",
   "metadata": {},
   "outputs": [
    {
     "name": "stdout",
     "output_type": "stream",
     "text": [
      "2\n",
      "3\n",
      "5\n",
      "7\n",
      "11\n",
      "13\n",
      "17\n",
      "19\n",
      "23\n",
      "29\n",
      "31\n",
      "37\n",
      "41\n",
      "43\n",
      "47\n",
      "53\n",
      "59\n",
      "61\n",
      "67\n",
      "71\n"
     ]
    }
   ],
   "source": [
    "def prime():\n",
    "    b=3\n",
    "    t=0\n",
    "    yield 2\n",
    "    q=False\n",
    "    while t<1000:\n",
    "        for i in range(2,b):\n",
    "            if b%i==0 :\n",
    "                q=True\n",
    "            \n",
    "        if q==False:\n",
    "            yield b\n",
    "        q=False    \n",
    "        t+=1\n",
    "        b+=1\n",
    "            \n",
    "            \n",
    "p=prime()          \n",
    "for i in range(20):\n",
    "    print(next(p))\n",
    "\n",
    "            \n",
    "        "
   ]
  },
  {
   "cell_type": "code",
   "execution_count": null,
   "id": "39fcf736-9e6d-476b-a420-9b7bbfe9837e",
   "metadata": {},
   "outputs": [],
   "source": [
    "Q6. Write a python program to print the first 10 Fibonacci numbers using a while loop."
   ]
  },
  {
   "cell_type": "code",
   "execution_count": 53,
   "id": "1df142b7-c877-48d7-9b43-54b4f42dd36c",
   "metadata": {},
   "outputs": [
    {
     "name": "stdout",
     "output_type": "stream",
     "text": [
      "0\n",
      "1\n",
      "2\n",
      "3\n",
      "5\n",
      "8\n",
      "13\n",
      "21\n",
      "34\n",
      "55\n",
      "89\n"
     ]
    }
   ],
   "source": [
    "a,b=0,1\n",
    "z=0\n",
    "while z<=10:\n",
    "    print(a)\n",
    "    a=b\n",
    "    b=c\n",
    "    c=a+b\n",
    "    z+=1\n",
    "    \n",
    "    "
   ]
  },
  {
   "cell_type": "code",
   "execution_count": null,
   "id": "54aa6a30-2472-4618-9784-2ad6b16a17f9",
   "metadata": {},
   "outputs": [],
   "source": [
    "Q7. Write a List Comprehension to iterate through the given string: ‘pwskills’.\n",
    "Expected output: ['p', 'w', 's', 'k', 'i', 'l', 'l', 's']"
   ]
  },
  {
   "cell_type": "code",
   "execution_count": 55,
   "id": "afdcc960-d804-4db6-ad23-3825a47337f4",
   "metadata": {},
   "outputs": [
    {
     "data": {
      "text/plain": [
       "['p', 'w', 's', 'k', 'i', 'l', 'l', 's']"
      ]
     },
     "execution_count": 55,
     "metadata": {},
     "output_type": "execute_result"
    }
   ],
   "source": [
    "p=\"pwskills\"\n",
    "a=[x for x in p]\n",
    "a"
   ]
  },
  {
   "cell_type": "code",
   "execution_count": null,
   "id": "20a412d1-bac5-49db-b967-ecce6e5ecba7",
   "metadata": {},
   "outputs": [],
   "source": [
    "Q8. Write a python program to check whether a given number is Palindrome or not using a while loop."
   ]
  },
  {
   "cell_type": "code",
   "execution_count": 59,
   "id": "0f31ac9d-278d-47a2-a5be-93267666ce4f",
   "metadata": {},
   "outputs": [
    {
     "name": "stdout",
     "output_type": "stream",
     "text": [
      "not a palindrome\n"
     ]
    }
   ],
   "source": [
    "q=True\n",
    "a=\"abbaa\"\n",
    "while q:\n",
    "    if a==a[-1::-1]:\n",
    "        print(\"yes palindrome\")\n",
    "        q=False\n",
    "    else:\n",
    "        print(\"not a palindrome\")\n",
    "        q=False"
   ]
  },
  {
   "cell_type": "code",
   "execution_count": null,
   "id": "2dc302cb-8dda-4eaa-9d40-b23e9443d10d",
   "metadata": {},
   "outputs": [],
   "source": [
    "Q9. Write a code to print odd numbers from 1 to 100 using list comprehension."
   ]
  },
  {
   "cell_type": "code",
   "execution_count": null,
   "id": "4d196778-89aa-427b-bd53-425e4b171b3c",
   "metadata": {},
   "outputs": [],
   "source": [
    "a=[]"
   ]
  },
  {
   "cell_type": "code",
   "execution_count": null,
   "id": "4f36bf29-0cf2-4889-9f6b-a732a4fa86a0",
   "metadata": {},
   "outputs": [],
   "source": []
  }
 ],
 "metadata": {
  "kernelspec": {
   "display_name": "Python 3 (ipykernel)",
   "language": "python",
   "name": "python3"
  },
  "language_info": {
   "codemirror_mode": {
    "name": "ipython",
    "version": 3
   },
   "file_extension": ".py",
   "mimetype": "text/x-python",
   "name": "python",
   "nbconvert_exporter": "python",
   "pygments_lexer": "ipython3",
   "version": "3.10.8"
  }
 },
 "nbformat": 4,
 "nbformat_minor": 5
}
