{
 "cells": [
  {
   "cell_type": "code",
   "execution_count": null,
   "id": "4d897083-9f47-474d-b348-582ac0719cb2",
   "metadata": {},
   "outputs": [],
   "source": [
    "Q1. How do you comment code in Python? What are the different types of comments?"
   ]
  },
  {
   "cell_type": "code",
   "execution_count": null,
   "id": "46c87de1-d57b-47e2-84cb-86b0e8654bb8",
   "metadata": {},
   "outputs": [],
   "source": [
    "#,\"\",\"\"\""
   ]
  },
  {
   "cell_type": "code",
   "execution_count": null,
   "id": "88f61723-9196-477d-b9ed-c1d0e29ad8be",
   "metadata": {},
   "outputs": [],
   "source": [
    "Q2. What are variables in Python? How do you declare and assign values to variables?"
   ]
  },
  {
   "cell_type": "code",
   "execution_count": null,
   "id": "c73ac885-3190-430a-8944-996f63917012",
   "metadata": {},
   "outputs": [],
   "source": [
    "Any variable should have  alphabet in starting postion and we can assign value to variable by (=) operator\n",
    "through any alphabet we can declare variable"
   ]
  },
  {
   "cell_type": "code",
   "execution_count": null,
   "id": "e5011ee5-1e3a-4ed8-ad61-f63f64b86aa6",
   "metadata": {},
   "outputs": [],
   "source": [
    "Q3 How do you convert one data type to another in Python?"
   ]
  },
  {
   "cell_type": "code",
   "execution_count": null,
   "id": "92d1b4d2-8005-4c18-bcba-a5b0a06a3124",
   "metadata": {},
   "outputs": [],
   "source": [
    "By using int(),str() like function"
   ]
  },
  {
   "cell_type": "code",
   "execution_count": null,
   "id": "16af7b25-5c67-4674-a733-0e67b850fd4d",
   "metadata": {},
   "outputs": [],
   "source": [
    "Q4. How do you write and execute a Python script from the command line?"
   ]
  },
  {
   "cell_type": "code",
   "execution_count": null,
   "id": "12572ddf-a254-4e00-9024-0da543da54f8",
   "metadata": {},
   "outputs": [],
   "source": [
    " You need to open a command line and type the word python followed by the path to your script file like this: python first_script.py Hello World! Then you hit the ENTER button from the keyboard"
   ]
  },
  {
   "cell_type": "code",
   "execution_count": null,
   "id": "5d8263e6-f1ec-4494-9882-3f535bca1986",
   "metadata": {},
   "outputs": [],
   "source": [
    "Q5. Given a list my_list = [1, 2, 3, 4, 5], write the code to slice the list and obtain the sub-list [2, 3]."
   ]
  },
  {
   "cell_type": "code",
   "execution_count": 2,
   "id": "23075677-8c09-4ac7-b087-12660b46a069",
   "metadata": {},
   "outputs": [
    {
     "data": {
      "text/plain": [
       "[2, 3]"
      ]
     },
     "execution_count": 2,
     "metadata": {},
     "output_type": "execute_result"
    }
   ],
   "source": [
    "my_list = [1, 2, 3, 4, 5]\n",
    "sub_list=my_list[1:3]\n",
    "sub_list"
   ]
  },
  {
   "cell_type": "code",
   "execution_count": null,
   "id": "be512ed7-5de0-4415-bcf5-dcc5acdf4150",
   "metadata": {},
   "outputs": [],
   "source": [
    "Q6. What is a complex number in mathematics, and how is it represented in Python?"
   ]
  },
  {
   "cell_type": "code",
   "execution_count": 6,
   "id": "0a1f948c-89e3-4272-8aa0-764a55016b94",
   "metadata": {},
   "outputs": [
    {
     "data": {
      "text/plain": [
       "complex"
      ]
     },
     "execution_count": 6,
     "metadata": {},
     "output_type": "execute_result"
    }
   ],
   "source": [
    "#  a=x+yj\n",
    "a=1+5j\n",
    "type(a)"
   ]
  },
  {
   "cell_type": "code",
   "execution_count": null,
   "id": "e11c1306-f2d4-4d7a-add5-b252982b37d2",
   "metadata": {},
   "outputs": [],
   "source": [
    "Q7. What is the correct way to declare a variable named age and assign the value 25 to it?"
   ]
  },
  {
   "cell_type": "code",
   "execution_count": 12,
   "id": "515b02b7-5f33-41af-a7cc-20db4037552e",
   "metadata": {},
   "outputs": [
    {
     "data": {
      "text/plain": [
       "25"
      ]
     },
     "execution_count": 12,
     "metadata": {},
     "output_type": "execute_result"
    }
   ],
   "source": [
    "age=25\n",
    "age"
   ]
  },
  {
   "cell_type": "code",
   "execution_count": null,
   "id": "d60bf508-5bf2-47b0-9771-f4c89858da20",
   "metadata": {},
   "outputs": [],
   "source": [
    "Q8. Declare a variable named price and assign the value 9.99 to it. What data type does this variable\n",
    "belong to?"
   ]
  },
  {
   "cell_type": "code",
   "execution_count": 15,
   "id": "9db6b08f-6948-460a-86d1-711857a9346a",
   "metadata": {},
   "outputs": [
    {
     "data": {
      "text/plain": [
       "9.99"
      ]
     },
     "execution_count": 15,
     "metadata": {},
     "output_type": "execute_result"
    }
   ],
   "source": [
    "price=9.99\n",
    "price\n",
    "#float type"
   ]
  },
  {
   "cell_type": "code",
   "execution_count": null,
   "id": "83cbfd24-ee0f-40ed-af56-ec9e37d1c58b",
   "metadata": {},
   "outputs": [],
   "source": [
    "Q9. Create a variable named name and assign your full name to it as a string. How would you print the\n",
    "value of this variable?"
   ]
  },
  {
   "cell_type": "code",
   "execution_count": 16,
   "id": "e1bb1eaa-4a60-4929-8a34-a601da4567d6",
   "metadata": {},
   "outputs": [
    {
     "name": "stdout",
     "output_type": "stream",
     "text": [
      "Shivam jaiswal\n"
     ]
    }
   ],
   "source": [
    "name=\"Shivam jaiswal\"\n",
    "print(name)"
   ]
  },
  {
   "cell_type": "code",
   "execution_count": null,
   "id": "f77eb45b-af3f-4808-b9ec-4467e89b86b2",
   "metadata": {},
   "outputs": [],
   "source": [
    "Q10. Given the string \"Hello, World!\", extract the substring \"World\"."
   ]
  },
  {
   "cell_type": "code",
   "execution_count": 25,
   "id": "76c27e11-27cc-42a9-a0a8-a215b786ac75",
   "metadata": {},
   "outputs": [
    {
     "data": {
      "text/plain": [
       "'World'"
      ]
     },
     "execution_count": 25,
     "metadata": {},
     "output_type": "execute_result"
    }
   ],
   "source": [
    "a= \"Hello, World!\"\n",
    "t=-1\n",
    "b=a.split(\",\")\n",
    "c=b[1].split(\" \")  \n",
    "d=c[1].split(\"!\")\n",
    "d[0]"
   ]
  },
  {
   "cell_type": "code",
   "execution_count": null,
   "id": "40b6ac12-4c76-4c8b-826c-3f87ec6c9fca",
   "metadata": {},
   "outputs": [],
   "source": [
    "Q11. Create a variable named \"is_student\" and assign it a boolean value indicating whether you are\n",
    "currently a student or not."
   ]
  },
  {
   "cell_type": "code",
   "execution_count": null,
   "id": "92aabb0a-62c2-46f8-97ec-60df159f791e",
   "metadata": {},
   "outputs": [],
   "source": [
    "name of variable is string type so we cannot assign any value "
   ]
  }
 ],
 "metadata": {
  "kernelspec": {
   "display_name": "Python 3 (ipykernel)",
   "language": "python",
   "name": "python3"
  },
  "language_info": {
   "codemirror_mode": {
    "name": "ipython",
    "version": 3
   },
   "file_extension": ".py",
   "mimetype": "text/x-python",
   "name": "python",
   "nbconvert_exporter": "python",
   "pygments_lexer": "ipython3",
   "version": "3.10.8"
  }
 },
 "nbformat": 4,
 "nbformat_minor": 5
}
