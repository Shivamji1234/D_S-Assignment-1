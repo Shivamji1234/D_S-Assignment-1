{
 "cells": [
  {
   "cell_type": "code",
   "execution_count": null,
   "id": "217d8708-e120-4f1f-9842-a5e8ed957312",
   "metadata": {},
   "outputs": [],
   "source": [
    "Q1."
   ]
  },
  {
   "cell_type": "code",
   "execution_count": null,
   "id": "2c61b50a-6b8b-4dec-a9f5-cbe2b6ec06ec",
   "metadata": {},
   "outputs": [],
   "source": [
    "1- A database is a structured collection of data organized and stored in a way that allows efficient retrieval, updating, and management of information. It is designed to store and manage large volumes of data, providing an organized and structured way to access and manipulate that data.\n",
    "2- SQL (Structured Query Language) and NoSQL (Not Only SQL) are two different types of database management systems with distinct approaches to data storage and retrieval. \n",
    "for example we compare sql and mongodb(NoSql)\n",
    "sql                    mongodb(NoSql)\n",
    " |                         |\n",
    "Database                Database \n",
    " |                         |\n",
    "Table                   Collection\n",
    " |                         |\n",
    "column                   field\n",
    " |                         |\n",
    "Row                      value\n"
   ]
  },
  {
   "cell_type": "code",
   "execution_count": null,
   "id": "4a8503f8-736f-411a-8197-978d5e73ad01",
   "metadata": {},
   "outputs": [],
   "source": [
    "Q2."
   ]
  },
  {
   "cell_type": "code",
   "execution_count": null,
   "id": "4a0923dc-888b-499d-9fd4-a4bd81261bf8",
   "metadata": {},
   "outputs": [],
   "source": [
    "DDL stands for Data Definition Language. It is a subset of SQL (Structured Query Language) used to define and manage the structure of a relational database. DDL statements are responsible for creating, modifying, and deleting database objects such as tables, indexes, views, and constraints.\n",
    "CREATE (used for creating a table)\n",
    "CREATE TABLE table_name(column1 field1,..);\n",
    "DROP (used for deleting the table)\n",
    "DROP TABLE table_name;\n",
    "ALTER (used for add,rename in table)\n",
    "ALTER TABLE table_name ADD column field;\n",
    "TRUNCATE (used to delete all row data from the table except column)\n",
    "TRUNCATE TABLE table_name"
   ]
  },
  {
   "cell_type": "code",
   "execution_count": null,
   "id": "12da27fb-c09d-42a4-8619-2f32f3b351cd",
   "metadata": {},
   "outputs": [],
   "source": [
    "Q3."
   ]
  },
  {
   "cell_type": "code",
   "execution_count": null,
   "id": "42a36a8c-3212-4c08-8e91-fccac40aee3e",
   "metadata": {},
   "outputs": [],
   "source": [
    "DML stands for Data Manipulation Language. It is a subset of SQL (Structured Query Language) used to interact with the data stored in a relational database. DML statements are responsible for inserting, updating, and deleting data within database tables.\n",
    "INSERT\n",
    "INSERT INTO table_name (column1, column2, column3, ...) VALUES (value1, value2, value3, ...);\n",
    "UPDATE\n",
    "UPDATE table_name SET column1 = value1, column2 = value2, ... WHERE condition;\n",
    "DELETE\n",
    "DELETE FROM table_nameWHERE condition;\n"
   ]
  },
  {
   "cell_type": "code",
   "execution_count": null,
   "id": "c0fb2cc1-37b9-498e-a56f-5ee6a7f3cf22",
   "metadata": {},
   "outputs": [],
   "source": [
    "Q4."
   ]
  },
  {
   "cell_type": "code",
   "execution_count": null,
   "id": "a0749153-88c7-4792-b154-26c4615035a4",
   "metadata": {},
   "outputs": [],
   "source": [
    "DQL stands for Data Query Language. It is a subset of SQL (Structured Query Language) used to retrieve data from a relational database. DQL statements primarily consist of the SELECT statement, which allows users to query and fetch specific data from database tables.\n",
    "SELECT\n",
    "SELECT * FROM table_name;\n"
   ]
  },
  {
   "cell_type": "code",
   "execution_count": null,
   "id": "4a0f3f16-f9ed-4d89-9bfb-72ba2c2ae47f",
   "metadata": {},
   "outputs": [],
   "source": [
    "Q5."
   ]
  },
  {
   "cell_type": "code",
   "execution_count": null,
   "id": "20757e8f-5f56-4f9e-8028-147c6e68e356",
   "metadata": {},
   "outputs": [],
   "source": [
    "PRIMARY KEY\n",
    "A primary key is a column or a combination of columns in a table that uniquely identifies each row in the table. It serves as a unique identifier for the records in the table and ensures that no two rows can have the same primary key value.\n",
    "It must have a unique value for each row in the table.\n",
    "It cannot contain NULL values, as it must be populated for every record.\n",
    "A table can have only one primary key.\n",
    "\n",
    "FOREIGN KEY\n",
    "A foreign key is a column or a combination of columns in a table that refers to the primary key of another table. It establishes a relationship between two tables, where the foreign key in one table references the primary key in another table.\n"
   ]
  },
  {
   "cell_type": "code",
   "execution_count": null,
   "id": "43f3b4b2-dcfc-408f-8702-c79126c51623",
   "metadata": {},
   "outputs": [],
   "source": [
    "Q6."
   ]
  },
  {
   "cell_type": "code",
   "execution_count": null,
   "id": "4d735f13-8744-4c55-904d-d9493704e738",
   "metadata": {},
   "outputs": [],
   "source": [
    "import mysql.connector\n",
    "mydb=mysql.connector.connect(\n",
    "    host=\"localhost\",\n",
    "    user=\"user_name\",\n",
    "    password=\"password\"\n",
    ")\n",
    "#for execution\n",
    "mycursor=mydb.cursor()\n",
    "mycursor.execute(\"SHOW DATABASE\")\n",
    "\n",
    "#cursor()\n",
    "it is a method provided by database connection objects to create a cursor object. A cursor is used to interact with a database and execute SQL queries or statements. It allows you to fetch, insert, update, and delete data from the database.\n",
    "\n",
    "#execute()\n",
    "it is a method provided by database cursor objects to execute SQL queries or statements against a database. It is used to perform various operations, such as creating tables, inserting data, updating records, deleting records, and retrieving data from the database.\n"
   ]
  },
  {
   "cell_type": "code",
   "execution_count": null,
   "id": "602d4514-5d5b-4b03-a389-c5488a404c5b",
   "metadata": {},
   "outputs": [],
   "source": [
    "Q7."
   ]
  },
  {
   "cell_type": "code",
   "execution_count": null,
   "id": "567babd6-ee03-4e54-aec7-b6ab2f15f03f",
   "metadata": {},
   "outputs": [],
   "source": [
    "\n",
    "In SQL, the order of execution of clauses in an SQL query generally follows the logical order of the SQL statement. The basic structure of a SQL query typically includes the following clauses, and they are executed in the following order:\n",
    "\n",
    "1.SELECT: The SELECT clause is used to specify which columns or expressions to include in the query result. It is executed first to retrieve the desired data from the database.\n",
    "\n",
    "2.FROM: The FROM clause is used to specify the table or tables from which the data should be retrieved. It is executed after the SELECT clause to determine the source of the data.\n",
    "\n",
    "3.WHERE: The WHERE clause is used to filter the rows returned by the query based on specific conditions. It is executed after the FROM clause to filter the data.\n",
    "\n",
    "3.GROUP BY: The GROUP BY clause is used to group the rows based on specified columns. It is executed after the WHERE clause to create groups of data.\n",
    "\n",
    "4.HAVING: The HAVING clause is used to filter the grouped rows based on specific conditions. It is executed after the GROUP BY clause to filter the grouped data.\n",
    "\n",
    "5.ORDER BY: The ORDER BY clause is used to sort the query result based on specified columns or expressions. It is executed after the HAVING clause to sort the final result.\n"
   ]
  }
 ],
 "metadata": {
  "kernelspec": {
   "display_name": "Python 3 (ipykernel)",
   "language": "python",
   "name": "python3"
  },
  "language_info": {
   "codemirror_mode": {
    "name": "ipython",
    "version": 3
   },
   "file_extension": ".py",
   "mimetype": "text/x-python",
   "name": "python",
   "nbconvert_exporter": "python",
   "pygments_lexer": "ipython3",
   "version": "3.10.8"
  }
 },
 "nbformat": 4,
 "nbformat_minor": 5
}
