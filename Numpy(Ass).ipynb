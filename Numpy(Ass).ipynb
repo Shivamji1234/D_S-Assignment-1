{
 "cells": [
  {
   "cell_type": "code",
   "execution_count": 1,
   "id": "921783c2-12c5-44d6-83b7-9d5c58b3e553",
   "metadata": {},
   "outputs": [],
   "source": [
    "import numpy as np\n",
    "list_ = [ '1','2','3','4','5' ]\n",
    "array_list = np.array(object = list_)"
   ]
  },
  {
   "cell_type": "code",
   "execution_count": null,
   "id": "4b1858e8-4db0-472d-bf1d-993e3c0e9fb4",
   "metadata": {},
   "outputs": [],
   "source": [
    "Q1. Is there any difference in the data type of variables list_ and array_list? If there is then write a code\n",
    "to print the data types of both the variables."
   ]
  },
  {
   "cell_type": "code",
   "execution_count": 13,
   "id": "450670c3-c768-47e5-af45-c33041a27bad",
   "metadata": {},
   "outputs": [],
   "source": [
    "yes,dtype('<U1'), indicates that the data type of an array is a Unicode string with a length of 1 character.\n"
   ]
  },
  {
   "cell_type": "code",
   "execution_count": 15,
   "id": "83e6f5e3-86cc-4577-982f-911fffc02989",
   "metadata": {},
   "outputs": [
    {
     "name": "stdout",
     "output_type": "stream",
     "text": [
      "<class 'list'> <U1\n"
     ]
    }
   ],
   "source": [
    "def Type(a,b):\n",
    "    print(type(a),b.dtype)\n",
    "Type(list_,array_list )"
   ]
  },
  {
   "cell_type": "code",
   "execution_count": 11,
   "id": "8947b4cd-4ed3-4dc0-a8da-76f9c51c619e",
   "metadata": {},
   "outputs": [
    {
     "name": "stdout",
     "output_type": "stream",
     "text": [
      "list variable data type:--<class 'str'> array_list variable data type:--<U1\n",
      "list variable data type:--<class 'str'> array_list variable data type:--<U1\n",
      "list variable data type:--<class 'str'> array_list variable data type:--<U1\n",
      "list variable data type:--<class 'str'> array_list variable data type:--<U1\n",
      "list variable data type:--<class 'str'> array_list variable data type:--<U1\n"
     ]
    }
   ],
   "source": [
    "def Dtype(a,b):\n",
    "    for i in range(len(a)):\n",
    "        print(f\"list variable data type:--{type(a[i])}\",f'array_list variable data type:--{b[i].dtype}')\n",
    "Dtype(list_,array_list)"
   ]
  },
  {
   "cell_type": "code",
   "execution_count": null,
   "id": "3fcb9216-f06c-45be-b22a-7abbc746c770",
   "metadata": {},
   "outputs": [],
   "source": [
    "Q2. Write a code to print the data type of each and every element of both the variables list_ and\n",
    "arra_list."
   ]
  },
  {
   "cell_type": "code",
   "execution_count": 14,
   "id": "56c0b04b-ab36-4395-91a4-6c0d08aea9b2",
   "metadata": {},
   "outputs": [
    {
     "name": "stdout",
     "output_type": "stream",
     "text": [
      "list variable data type:--<class 'str'> array_list variable data type:--<U1\n",
      "list variable data type:--<class 'str'> array_list variable data type:--<U1\n",
      "list variable data type:--<class 'str'> array_list variable data type:--<U1\n",
      "list variable data type:--<class 'str'> array_list variable data type:--<U1\n",
      "list variable data type:--<class 'str'> array_list variable data type:--<U1\n"
     ]
    }
   ],
   "source": [
    "def Dtype(a,b):\n",
    "    for i in range(len(a)):\n",
    "        print(f\"list variable data type:--{type(a[i])}\",f'array_list variable data type:--{b[i].dtype}')\n",
    "Dtype(list_,array_list)"
   ]
  },
  {
   "cell_type": "code",
   "execution_count": null,
   "id": "201eefb6-099b-47ab-bf4b-1fe5018c2cfe",
   "metadata": {},
   "outputs": [],
   "source": [
    "Q3. Considering the following changes in the variable, array_list:\n",
    "array_list = np.array(object = list_, dtype = int)\n",
    "Will there be any difference in the data type of the elements present in both the variables, list_ and\n",
    "arra_list? If so then print the data types of each and every element present in both the variables, list_\n",
    "and arra_list."
   ]
  },
  {
   "cell_type": "code",
   "execution_count": 16,
   "id": "766d4961-65c6-49c0-b9a9-cedff3905dc4",
   "metadata": {},
   "outputs": [],
   "source": [
    "import numpy as np\n",
    "list_ = [ '1','2','3','4','5' ]\n",
    "array_list = np.array(object = list_, dtype = int)"
   ]
  },
  {
   "cell_type": "code",
   "execution_count": 19,
   "id": "fb56eef8-a4fb-4de8-ae8a-88c7db005364",
   "metadata": {},
   "outputs": [],
   "source": [
    "yes, list_ contain string but array_list contain integer"
   ]
  },
  {
   "cell_type": "code",
   "execution_count": 20,
   "id": "c2d8a278-55da-401e-aa94-c6d2a7c278d4",
   "metadata": {},
   "outputs": [
    {
     "name": "stdout",
     "output_type": "stream",
     "text": [
      "list variable data type:--<class 'str'> array_list variable data type:--int64\n",
      "list variable data type:--<class 'str'> array_list variable data type:--int64\n",
      "list variable data type:--<class 'str'> array_list variable data type:--int64\n",
      "list variable data type:--<class 'str'> array_list variable data type:--int64\n",
      "list variable data type:--<class 'str'> array_list variable data type:--int64\n"
     ]
    }
   ],
   "source": [
    "def Dtype(a,b):\n",
    "    for i in range(len(a)):\n",
    "        print(f\"list variable data type:--{type(a[i])}\",f'array_list variable data type:--{b[i].dtype}')\n",
    "Dtype(list_,array_list)"
   ]
  },
  {
   "cell_type": "code",
   "execution_count": null,
   "id": "6fd7cbce-7cba-4ea5-947d-445f3f054244",
   "metadata": {},
   "outputs": [],
   "source": []
  },
  {
   "cell_type": "code",
   "execution_count": 21,
   "id": "d2fb643b-f04b-4b0a-901a-2ad6c72fe60f",
   "metadata": {},
   "outputs": [],
   "source": [
    "import numpy as np\n",
    "num_list = [ [ 1 , 2 , 3 ] , [ 4 , 5 , 6 ] ]\n",
    "num_array = np.array(object = num_list)"
   ]
  },
  {
   "cell_type": "code",
   "execution_count": null,
   "id": "8aa47e79-c334-4c89-808b-192dd840ffd8",
   "metadata": {},
   "outputs": [],
   "source": [
    "Q4. Write a code to find the following characteristics of variable, num_array:\n",
    "(i) shape\n",
    "(ii) size"
   ]
  },
  {
   "cell_type": "code",
   "execution_count": 26,
   "id": "5300a0c6-2b9e-45ee-900e-efc223dc14f4",
   "metadata": {},
   "outputs": [
    {
     "name": "stdout",
     "output_type": "stream",
     "text": [
      "shape of num_list:-2   shape of num_array:-(2, 3)\n"
     ]
    }
   ],
   "source": [
    "def Shape(a,b):\n",
    "    print(f'shape of num_list:-{len(a)}  ',f'shape of num_array:-{b.shape}')\n",
    "Shape(num_list,num_array)"
   ]
  },
  {
   "cell_type": "code",
   "execution_count": 27,
   "id": "0707c7ae-644a-4386-99c9-e5153e539fd1",
   "metadata": {},
   "outputs": [
    {
     "name": "stdout",
     "output_type": "stream",
     "text": [
      "size of num_list:-2   size of num_array:-6\n"
     ]
    }
   ],
   "source": [
    "def Size(a,b):\n",
    "    print(f'size of num_list:-{len(a)}  ',f'size of num_array:-{b.size}')\n",
    "Size(num_list,num_array)"
   ]
  },
  {
   "cell_type": "code",
   "execution_count": null,
   "id": "9e54d2cf-2f50-4bde-a545-bb9a91a3d75a",
   "metadata": {},
   "outputs": [],
   "source": [
    "Q5. Write a code to create numpy array of 3*3 matrix containing zeros only, using a numpy array\n",
    "creation function.\n",
    "[Hint: The size of the array will be 9 and the shape will be (3,3).]"
   ]
  },
  {
   "cell_type": "code",
   "execution_count": 29,
   "id": "3dc8fa08-ae58-4288-93b8-907ff86cb970",
   "metadata": {},
   "outputs": [
    {
     "data": {
      "text/plain": [
       "array([[0., 0., 0.],\n",
       "       [0., 0., 0.],\n",
       "       [0., 0., 0.]])"
      ]
     },
     "execution_count": 29,
     "metadata": {},
     "output_type": "execute_result"
    }
   ],
   "source": [
    "def zero(a,b):\n",
    "    return np.zeros((a,b))\n",
    "zero(3,3)"
   ]
  },
  {
   "cell_type": "code",
   "execution_count": null,
   "id": "a4721239-1b95-47ee-bc5c-47ae3c4eabf9",
   "metadata": {},
   "outputs": [],
   "source": [
    "Q6. Create an identity matrix of shape (5,5) using numpy functions?\n",
    "[Hint: An identity matrix is a matrix containing 1 diagonally and other elements will be 0.]"
   ]
  },
  {
   "cell_type": "code",
   "execution_count": 31,
   "id": "e73c3a25-bd6a-4d4c-8f92-52cc77372a21",
   "metadata": {},
   "outputs": [
    {
     "data": {
      "text/plain": [
       "array([[1., 0., 0., 0., 0.],\n",
       "       [0., 1., 0., 0., 0.],\n",
       "       [0., 0., 1., 0., 0.],\n",
       "       [0., 0., 0., 1., 0.],\n",
       "       [0., 0., 0., 0., 1.]])"
      ]
     },
     "execution_count": 31,
     "metadata": {},
     "output_type": "execute_result"
    }
   ],
   "source": [
    "np.eye(5,5)"
   ]
  },
  {
   "cell_type": "code",
   "execution_count": null,
   "id": "4a031b16-949e-4322-9009-15903c883343",
   "metadata": {},
   "outputs": [],
   "source": []
  }
 ],
 "metadata": {
  "kernelspec": {
   "display_name": "Python 3 (ipykernel)",
   "language": "python",
   "name": "python3"
  },
  "language_info": {
   "codemirror_mode": {
    "name": "ipython",
    "version": 3
   },
   "file_extension": ".py",
   "mimetype": "text/x-python",
   "name": "python",
   "nbconvert_exporter": "python",
   "pygments_lexer": "ipython3",
   "version": "3.10.8"
  }
 },
 "nbformat": 4,
 "nbformat_minor": 5
}
