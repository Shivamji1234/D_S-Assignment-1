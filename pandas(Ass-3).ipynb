{
 "cells": [
  {
   "cell_type": "code",
   "execution_count": 3,
   "id": "7c70c4a9-2aa5-4efb-a672-baa0c7653e29",
   "metadata": {},
   "outputs": [],
   "source": [
    "import pandas as pd\n",
    "course_name = ['Data Science', 'Machine Learning', 'Big Data', 'Data Engineer']\n",
    "duration = [2,3,6,4]\n",
    "df = pd.DataFrame(data = {'course_name' : course_name, 'duration' : duration})"
   ]
  },
  {
   "cell_type": "code",
   "execution_count": 4,
   "id": "c3ec622c-b96b-4edc-96d9-13c5384a0d3d",
   "metadata": {},
   "outputs": [
    {
     "data": {
      "text/html": [
       "<div>\n",
       "<style scoped>\n",
       "    .dataframe tbody tr th:only-of-type {\n",
       "        vertical-align: middle;\n",
       "    }\n",
       "\n",
       "    .dataframe tbody tr th {\n",
       "        vertical-align: top;\n",
       "    }\n",
       "\n",
       "    .dataframe thead th {\n",
       "        text-align: right;\n",
       "    }\n",
       "</style>\n",
       "<table border=\"1\" class=\"dataframe\">\n",
       "  <thead>\n",
       "    <tr style=\"text-align: right;\">\n",
       "      <th></th>\n",
       "      <th>course_name</th>\n",
       "      <th>duration</th>\n",
       "    </tr>\n",
       "  </thead>\n",
       "  <tbody>\n",
       "    <tr>\n",
       "      <th>0</th>\n",
       "      <td>Data Science</td>\n",
       "      <td>2</td>\n",
       "    </tr>\n",
       "    <tr>\n",
       "      <th>1</th>\n",
       "      <td>Machine Learning</td>\n",
       "      <td>3</td>\n",
       "    </tr>\n",
       "    <tr>\n",
       "      <th>2</th>\n",
       "      <td>Big Data</td>\n",
       "      <td>6</td>\n",
       "    </tr>\n",
       "    <tr>\n",
       "      <th>3</th>\n",
       "      <td>Data Engineer</td>\n",
       "      <td>4</td>\n",
       "    </tr>\n",
       "  </tbody>\n",
       "</table>\n",
       "</div>"
      ],
      "text/plain": [
       "        course_name  duration\n",
       "0      Data Science         2\n",
       "1  Machine Learning         3\n",
       "2          Big Data         6\n",
       "3     Data Engineer         4"
      ]
     },
     "execution_count": 4,
     "metadata": {},
     "output_type": "execute_result"
    }
   ],
   "source": [
    "df"
   ]
  },
  {
   "cell_type": "code",
   "execution_count": null,
   "id": "f821d8fc-84a5-41eb-b3b0-84c7b23b460a",
   "metadata": {},
   "outputs": [],
   "source": [
    "Q1. Write a code to print the data present in the second row of the dataframe, df."
   ]
  },
  {
   "cell_type": "code",
   "execution_count": 9,
   "id": "985c7ee1-cd37-4cd1-a9e5-5b882432eb01",
   "metadata": {},
   "outputs": [
    {
     "data": {
      "text/plain": [
       "course_name    Machine Learning\n",
       "duration                      3\n",
       "Name: 1, dtype: object"
      ]
     },
     "execution_count": 9,
     "metadata": {},
     "output_type": "execute_result"
    }
   ],
   "source": [
    "df.iloc[1]"
   ]
  },
  {
   "cell_type": "code",
   "execution_count": null,
   "id": "681fae5c-f3dc-4e1e-ba2c-3c7583f812ac",
   "metadata": {},
   "outputs": [],
   "source": [
    "Q2. What is the difference between the functions loc and iloc in pandas.DataFrame?"
   ]
  },
  {
   "cell_type": "code",
   "execution_count": null,
   "id": "02bef352-d244-434f-8450-e901be96d66d",
   "metadata": {},
   "outputs": [],
   "source": [
    "loc is label-based indexing, which means you use row and column labels to select data.\n",
    "The syntax is: df.loc[row_label, column_label] or df.loc[row_labels, column_labels]\n",
    "\n",
    "iloc is integer-based indexing, which means you use integer indices to select data.\n",
    "The syntax is: df.iloc[row_index, column_index] or df.iloc[row_indices, column_indices]"
   ]
  },
  {
   "cell_type": "code",
   "execution_count": null,
   "id": "0254ab8a-e988-410c-a0f1-70703f36d458",
   "metadata": {},
   "outputs": [],
   "source": [
    "Q3. Reindex the given dataframe using a variable, reindex = [3,0,1,2] and store it in the variable, new_df\n",
    "then find the output for both new_df.loc[2] and new_df.iloc[2].\n",
    "Did you observe any difference in both the outputs? If so then explain it."
   ]
  },
  {
   "cell_type": "code",
   "execution_count": 18,
   "id": "b056dcd6-dc87-4cc3-9860-6986eba57458",
   "metadata": {},
   "outputs": [],
   "source": [
    "import pandas as pd\n",
    "course_name = ['Data Science', 'Machine Learning', 'Big Data', 'Data Engineer']\n",
    "duration = [2,3,6,4]\n",
    "df = pd.DataFrame(data = {'course_name' : course_name, 'duration' : duration})"
   ]
  },
  {
   "cell_type": "code",
   "execution_count": 19,
   "id": "dcf6ddce-0520-46c3-83c6-49b7aecc7671",
   "metadata": {},
   "outputs": [
    {
     "data": {
      "text/html": [
       "<div>\n",
       "<style scoped>\n",
       "    .dataframe tbody tr th:only-of-type {\n",
       "        vertical-align: middle;\n",
       "    }\n",
       "\n",
       "    .dataframe tbody tr th {\n",
       "        vertical-align: top;\n",
       "    }\n",
       "\n",
       "    .dataframe thead th {\n",
       "        text-align: right;\n",
       "    }\n",
       "</style>\n",
       "<table border=\"1\" class=\"dataframe\">\n",
       "  <thead>\n",
       "    <tr style=\"text-align: right;\">\n",
       "      <th></th>\n",
       "      <th>course_name</th>\n",
       "      <th>duration</th>\n",
       "    </tr>\n",
       "  </thead>\n",
       "  <tbody>\n",
       "    <tr>\n",
       "      <th>0</th>\n",
       "      <td>Data Science</td>\n",
       "      <td>2</td>\n",
       "    </tr>\n",
       "    <tr>\n",
       "      <th>1</th>\n",
       "      <td>Machine Learning</td>\n",
       "      <td>3</td>\n",
       "    </tr>\n",
       "    <tr>\n",
       "      <th>2</th>\n",
       "      <td>Big Data</td>\n",
       "      <td>6</td>\n",
       "    </tr>\n",
       "    <tr>\n",
       "      <th>3</th>\n",
       "      <td>Data Engineer</td>\n",
       "      <td>4</td>\n",
       "    </tr>\n",
       "  </tbody>\n",
       "</table>\n",
       "</div>"
      ],
      "text/plain": [
       "        course_name  duration\n",
       "0      Data Science         2\n",
       "1  Machine Learning         3\n",
       "2          Big Data         6\n",
       "3     Data Engineer         4"
      ]
     },
     "execution_count": 19,
     "metadata": {},
     "output_type": "execute_result"
    }
   ],
   "source": [
    "df"
   ]
  },
  {
   "cell_type": "code",
   "execution_count": 20,
   "id": "d4d12d04-ffda-493c-8747-7d743d67f7ef",
   "metadata": {},
   "outputs": [],
   "source": [
    "new_df=df.reindex([3,0,1,2])"
   ]
  },
  {
   "cell_type": "code",
   "execution_count": 21,
   "id": "e34052de-d725-44ef-864b-b20342011280",
   "metadata": {},
   "outputs": [
    {
     "data": {
      "text/html": [
       "<div>\n",
       "<style scoped>\n",
       "    .dataframe tbody tr th:only-of-type {\n",
       "        vertical-align: middle;\n",
       "    }\n",
       "\n",
       "    .dataframe tbody tr th {\n",
       "        vertical-align: top;\n",
       "    }\n",
       "\n",
       "    .dataframe thead th {\n",
       "        text-align: right;\n",
       "    }\n",
       "</style>\n",
       "<table border=\"1\" class=\"dataframe\">\n",
       "  <thead>\n",
       "    <tr style=\"text-align: right;\">\n",
       "      <th></th>\n",
       "      <th>course_name</th>\n",
       "      <th>duration</th>\n",
       "    </tr>\n",
       "  </thead>\n",
       "  <tbody>\n",
       "    <tr>\n",
       "      <th>3</th>\n",
       "      <td>Data Engineer</td>\n",
       "      <td>4</td>\n",
       "    </tr>\n",
       "    <tr>\n",
       "      <th>0</th>\n",
       "      <td>Data Science</td>\n",
       "      <td>2</td>\n",
       "    </tr>\n",
       "    <tr>\n",
       "      <th>1</th>\n",
       "      <td>Machine Learning</td>\n",
       "      <td>3</td>\n",
       "    </tr>\n",
       "    <tr>\n",
       "      <th>2</th>\n",
       "      <td>Big Data</td>\n",
       "      <td>6</td>\n",
       "    </tr>\n",
       "  </tbody>\n",
       "</table>\n",
       "</div>"
      ],
      "text/plain": [
       "        course_name  duration\n",
       "3     Data Engineer         4\n",
       "0      Data Science         2\n",
       "1  Machine Learning         3\n",
       "2          Big Data         6"
      ]
     },
     "execution_count": 21,
     "metadata": {},
     "output_type": "execute_result"
    }
   ],
   "source": [
    "new_df"
   ]
  },
  {
   "cell_type": "code",
   "execution_count": 22,
   "id": "35573631-e352-4380-aca6-49822f24f2f8",
   "metadata": {},
   "outputs": [
    {
     "data": {
      "text/plain": [
       "course_name    Big Data\n",
       "duration              6\n",
       "Name: 2, dtype: object"
      ]
     },
     "execution_count": 22,
     "metadata": {},
     "output_type": "execute_result"
    }
   ],
   "source": [
    "new_df.loc[2]"
   ]
  },
  {
   "cell_type": "code",
   "execution_count": 23,
   "id": "d156ac3c-0d82-48b8-97da-59600151f08c",
   "metadata": {},
   "outputs": [
    {
     "data": {
      "text/plain": [
       "course_name    Machine Learning\n",
       "duration                      3\n",
       "Name: 1, dtype: object"
      ]
     },
     "execution_count": 23,
     "metadata": {},
     "output_type": "execute_result"
    }
   ],
   "source": [
    "new_df.iloc[2]"
   ]
  },
  {
   "cell_type": "code",
   "execution_count": null,
   "id": "08ab0de8-6dbb-46eb-a63b-5115faf8e4eb",
   "metadata": {},
   "outputs": [],
   "source": [
    "yes both are giving diffrent output due to followiong reasion are:-\n",
    "loc is label-based indexing, which means you use row and column labels to select data.\n",
    "The syntax is: df.loc[row_label, column_label] or df.loc[row_labels, column_labels]\n",
    "\n",
    "iloc is integer-based indexing, which means you use integer indices to select data.\n",
    "The syntax is: df.iloc[row_index, column_index] or df.iloc[row_indices, column_indices]"
   ]
  },
  {
   "cell_type": "code",
   "execution_count": null,
   "id": "c1da8ac0-bde3-4831-9eaa-3b1ebba7b644",
   "metadata": {},
   "outputs": [],
   "source": [
    "Q4. Write a code to find the following statistical measurements for the above dataframe df1:\n",
    "(i) mean of each and every column present in the dataframe.\n",
    "(ii) standard deviation of column, ‘column_2’"
   ]
  },
  {
   "cell_type": "code",
   "execution_count": 24,
   "id": "0f77d664-3f5b-45ef-95eb-82d0cd5c5dff",
   "metadata": {},
   "outputs": [],
   "source": [
    "import pandas as pd\n",
    "import numpy as np\n",
    "columns = ['column_1', 'column_2', 'column_3', 'column_4', 'column_5', 'column_6']\n",
    "indices = [1,2,3,4,5,6]\n",
    "#Creating a dataframe:\n",
    "df1 = pd.DataFrame(np.random.rand(6,6), columns = columns, index = indices)"
   ]
  },
  {
   "cell_type": "code",
   "execution_count": 25,
   "id": "2c5607c4-8a31-4348-a906-41b878777b2e",
   "metadata": {},
   "outputs": [
    {
     "data": {
      "text/html": [
       "<div>\n",
       "<style scoped>\n",
       "    .dataframe tbody tr th:only-of-type {\n",
       "        vertical-align: middle;\n",
       "    }\n",
       "\n",
       "    .dataframe tbody tr th {\n",
       "        vertical-align: top;\n",
       "    }\n",
       "\n",
       "    .dataframe thead th {\n",
       "        text-align: right;\n",
       "    }\n",
       "</style>\n",
       "<table border=\"1\" class=\"dataframe\">\n",
       "  <thead>\n",
       "    <tr style=\"text-align: right;\">\n",
       "      <th></th>\n",
       "      <th>column_1</th>\n",
       "      <th>column_2</th>\n",
       "      <th>column_3</th>\n",
       "      <th>column_4</th>\n",
       "      <th>column_5</th>\n",
       "      <th>column_6</th>\n",
       "    </tr>\n",
       "  </thead>\n",
       "  <tbody>\n",
       "    <tr>\n",
       "      <th>1</th>\n",
       "      <td>0.228069</td>\n",
       "      <td>0.768025</td>\n",
       "      <td>0.255003</td>\n",
       "      <td>0.173581</td>\n",
       "      <td>0.026552</td>\n",
       "      <td>0.134190</td>\n",
       "    </tr>\n",
       "    <tr>\n",
       "      <th>2</th>\n",
       "      <td>0.305920</td>\n",
       "      <td>0.260471</td>\n",
       "      <td>0.741151</td>\n",
       "      <td>0.931652</td>\n",
       "      <td>0.492774</td>\n",
       "      <td>0.609283</td>\n",
       "    </tr>\n",
       "    <tr>\n",
       "      <th>3</th>\n",
       "      <td>0.795731</td>\n",
       "      <td>0.712322</td>\n",
       "      <td>0.556251</td>\n",
       "      <td>0.564958</td>\n",
       "      <td>0.244052</td>\n",
       "      <td>0.181307</td>\n",
       "    </tr>\n",
       "    <tr>\n",
       "      <th>4</th>\n",
       "      <td>0.291565</td>\n",
       "      <td>0.249773</td>\n",
       "      <td>0.367826</td>\n",
       "      <td>0.418874</td>\n",
       "      <td>0.097295</td>\n",
       "      <td>0.340270</td>\n",
       "    </tr>\n",
       "    <tr>\n",
       "      <th>5</th>\n",
       "      <td>0.475128</td>\n",
       "      <td>0.295645</td>\n",
       "      <td>0.419654</td>\n",
       "      <td>0.737279</td>\n",
       "      <td>0.543015</td>\n",
       "      <td>0.504641</td>\n",
       "    </tr>\n",
       "    <tr>\n",
       "      <th>6</th>\n",
       "      <td>0.871344</td>\n",
       "      <td>0.449376</td>\n",
       "      <td>0.376419</td>\n",
       "      <td>0.706180</td>\n",
       "      <td>0.850123</td>\n",
       "      <td>0.040081</td>\n",
       "    </tr>\n",
       "  </tbody>\n",
       "</table>\n",
       "</div>"
      ],
      "text/plain": [
       "   column_1  column_2  column_3  column_4  column_5  column_6\n",
       "1  0.228069  0.768025  0.255003  0.173581  0.026552  0.134190\n",
       "2  0.305920  0.260471  0.741151  0.931652  0.492774  0.609283\n",
       "3  0.795731  0.712322  0.556251  0.564958  0.244052  0.181307\n",
       "4  0.291565  0.249773  0.367826  0.418874  0.097295  0.340270\n",
       "5  0.475128  0.295645  0.419654  0.737279  0.543015  0.504641\n",
       "6  0.871344  0.449376  0.376419  0.706180  0.850123  0.040081"
      ]
     },
     "execution_count": 25,
     "metadata": {},
     "output_type": "execute_result"
    }
   ],
   "source": [
    "df1"
   ]
  },
  {
   "cell_type": "code",
   "execution_count": 26,
   "id": "f48b7064-c7fc-49e9-a5f0-9a11dea07f4e",
   "metadata": {},
   "outputs": [
    {
     "data": {
      "text/plain": [
       "column_1    0.494626\n",
       "column_2    0.455935\n",
       "column_3    0.452717\n",
       "column_4    0.588754\n",
       "column_5    0.375635\n",
       "column_6    0.301629\n",
       "dtype: float64"
      ]
     },
     "execution_count": 26,
     "metadata": {},
     "output_type": "execute_result"
    }
   ],
   "source": [
    "df1.mean()"
   ]
  },
  {
   "cell_type": "code",
   "execution_count": 27,
   "id": "6f6ef369-630a-4b92-96f3-179a953b9cb3",
   "metadata": {},
   "outputs": [
    {
     "data": {
      "text/plain": [
       "column_1    0.275992\n",
       "column_2    0.232198\n",
       "column_3    0.171537\n",
       "column_4    0.266541\n",
       "column_5    0.310974\n",
       "column_6    0.222835\n",
       "dtype: float64"
      ]
     },
     "execution_count": 27,
     "metadata": {},
     "output_type": "execute_result"
    }
   ],
   "source": [
    "df1.std()"
   ]
  },
  {
   "cell_type": "code",
   "execution_count": 30,
   "id": "bc4ee488-3f88-4ee1-a4db-95d64f4398ff",
   "metadata": {},
   "outputs": [
    {
     "data": {
      "text/plain": [
       "0.2321978681911585"
      ]
     },
     "execution_count": 30,
     "metadata": {},
     "output_type": "execute_result"
    }
   ],
   "source": [
    "df1['column_2'].std()"
   ]
  },
  {
   "cell_type": "code",
   "execution_count": null,
   "id": "31c0b5dc-a5e6-4188-8416-bfee7f2d970b",
   "metadata": {},
   "outputs": [],
   "source": [
    "Q5. Replace the data present in the second row of column, ‘column_2’ by a string variable then find the\n",
    "mean of column, column_2.\n",
    "If you are getting errors in executing it then explain why.\n",
    "[Hint: To replace the data use df1.loc[] and equate this to string data of your choice.]"
   ]
  },
  {
   "cell_type": "code",
   "execution_count": 31,
   "id": "dee662ee-8ff1-46df-9220-68f89f7654d7",
   "metadata": {},
   "outputs": [
    {
     "data": {
      "text/html": [
       "<div>\n",
       "<style scoped>\n",
       "    .dataframe tbody tr th:only-of-type {\n",
       "        vertical-align: middle;\n",
       "    }\n",
       "\n",
       "    .dataframe tbody tr th {\n",
       "        vertical-align: top;\n",
       "    }\n",
       "\n",
       "    .dataframe thead th {\n",
       "        text-align: right;\n",
       "    }\n",
       "</style>\n",
       "<table border=\"1\" class=\"dataframe\">\n",
       "  <thead>\n",
       "    <tr style=\"text-align: right;\">\n",
       "      <th></th>\n",
       "      <th>column_1</th>\n",
       "      <th>column_2</th>\n",
       "      <th>column_3</th>\n",
       "      <th>column_4</th>\n",
       "      <th>column_5</th>\n",
       "      <th>column_6</th>\n",
       "    </tr>\n",
       "  </thead>\n",
       "  <tbody>\n",
       "    <tr>\n",
       "      <th>1</th>\n",
       "      <td>0.228069</td>\n",
       "      <td>0.768025</td>\n",
       "      <td>0.255003</td>\n",
       "      <td>0.173581</td>\n",
       "      <td>0.026552</td>\n",
       "      <td>0.134190</td>\n",
       "    </tr>\n",
       "    <tr>\n",
       "      <th>2</th>\n",
       "      <td>0.305920</td>\n",
       "      <td>0.260471</td>\n",
       "      <td>0.741151</td>\n",
       "      <td>0.931652</td>\n",
       "      <td>0.492774</td>\n",
       "      <td>0.609283</td>\n",
       "    </tr>\n",
       "    <tr>\n",
       "      <th>3</th>\n",
       "      <td>0.795731</td>\n",
       "      <td>0.712322</td>\n",
       "      <td>0.556251</td>\n",
       "      <td>0.564958</td>\n",
       "      <td>0.244052</td>\n",
       "      <td>0.181307</td>\n",
       "    </tr>\n",
       "    <tr>\n",
       "      <th>4</th>\n",
       "      <td>0.291565</td>\n",
       "      <td>0.249773</td>\n",
       "      <td>0.367826</td>\n",
       "      <td>0.418874</td>\n",
       "      <td>0.097295</td>\n",
       "      <td>0.340270</td>\n",
       "    </tr>\n",
       "    <tr>\n",
       "      <th>5</th>\n",
       "      <td>0.475128</td>\n",
       "      <td>0.295645</td>\n",
       "      <td>0.419654</td>\n",
       "      <td>0.737279</td>\n",
       "      <td>0.543015</td>\n",
       "      <td>0.504641</td>\n",
       "    </tr>\n",
       "    <tr>\n",
       "      <th>6</th>\n",
       "      <td>0.871344</td>\n",
       "      <td>0.449376</td>\n",
       "      <td>0.376419</td>\n",
       "      <td>0.706180</td>\n",
       "      <td>0.850123</td>\n",
       "      <td>0.040081</td>\n",
       "    </tr>\n",
       "  </tbody>\n",
       "</table>\n",
       "</div>"
      ],
      "text/plain": [
       "   column_1  column_2  column_3  column_4  column_5  column_6\n",
       "1  0.228069  0.768025  0.255003  0.173581  0.026552  0.134190\n",
       "2  0.305920  0.260471  0.741151  0.931652  0.492774  0.609283\n",
       "3  0.795731  0.712322  0.556251  0.564958  0.244052  0.181307\n",
       "4  0.291565  0.249773  0.367826  0.418874  0.097295  0.340270\n",
       "5  0.475128  0.295645  0.419654  0.737279  0.543015  0.504641\n",
       "6  0.871344  0.449376  0.376419  0.706180  0.850123  0.040081"
      ]
     },
     "execution_count": 31,
     "metadata": {},
     "output_type": "execute_result"
    }
   ],
   "source": [
    "df1"
   ]
  },
  {
   "cell_type": "code",
   "execution_count": 32,
   "id": "bfabed8e-b06d-415a-bc0a-d34f64937dfe",
   "metadata": {},
   "outputs": [],
   "source": [
    "df1.loc[2,'column_2']='hello'"
   ]
  },
  {
   "cell_type": "code",
   "execution_count": 33,
   "id": "35409f84-b55d-45e9-9f4c-78aef9418928",
   "metadata": {},
   "outputs": [
    {
     "data": {
      "text/html": [
       "<div>\n",
       "<style scoped>\n",
       "    .dataframe tbody tr th:only-of-type {\n",
       "        vertical-align: middle;\n",
       "    }\n",
       "\n",
       "    .dataframe tbody tr th {\n",
       "        vertical-align: top;\n",
       "    }\n",
       "\n",
       "    .dataframe thead th {\n",
       "        text-align: right;\n",
       "    }\n",
       "</style>\n",
       "<table border=\"1\" class=\"dataframe\">\n",
       "  <thead>\n",
       "    <tr style=\"text-align: right;\">\n",
       "      <th></th>\n",
       "      <th>column_1</th>\n",
       "      <th>column_2</th>\n",
       "      <th>column_3</th>\n",
       "      <th>column_4</th>\n",
       "      <th>column_5</th>\n",
       "      <th>column_6</th>\n",
       "    </tr>\n",
       "  </thead>\n",
       "  <tbody>\n",
       "    <tr>\n",
       "      <th>1</th>\n",
       "      <td>0.228069</td>\n",
       "      <td>0.768025</td>\n",
       "      <td>0.255003</td>\n",
       "      <td>0.173581</td>\n",
       "      <td>0.026552</td>\n",
       "      <td>0.134190</td>\n",
       "    </tr>\n",
       "    <tr>\n",
       "      <th>2</th>\n",
       "      <td>0.305920</td>\n",
       "      <td>hello</td>\n",
       "      <td>0.741151</td>\n",
       "      <td>0.931652</td>\n",
       "      <td>0.492774</td>\n",
       "      <td>0.609283</td>\n",
       "    </tr>\n",
       "    <tr>\n",
       "      <th>3</th>\n",
       "      <td>0.795731</td>\n",
       "      <td>0.712322</td>\n",
       "      <td>0.556251</td>\n",
       "      <td>0.564958</td>\n",
       "      <td>0.244052</td>\n",
       "      <td>0.181307</td>\n",
       "    </tr>\n",
       "    <tr>\n",
       "      <th>4</th>\n",
       "      <td>0.291565</td>\n",
       "      <td>0.249773</td>\n",
       "      <td>0.367826</td>\n",
       "      <td>0.418874</td>\n",
       "      <td>0.097295</td>\n",
       "      <td>0.340270</td>\n",
       "    </tr>\n",
       "    <tr>\n",
       "      <th>5</th>\n",
       "      <td>0.475128</td>\n",
       "      <td>0.295645</td>\n",
       "      <td>0.419654</td>\n",
       "      <td>0.737279</td>\n",
       "      <td>0.543015</td>\n",
       "      <td>0.504641</td>\n",
       "    </tr>\n",
       "    <tr>\n",
       "      <th>6</th>\n",
       "      <td>0.871344</td>\n",
       "      <td>0.449376</td>\n",
       "      <td>0.376419</td>\n",
       "      <td>0.706180</td>\n",
       "      <td>0.850123</td>\n",
       "      <td>0.040081</td>\n",
       "    </tr>\n",
       "  </tbody>\n",
       "</table>\n",
       "</div>"
      ],
      "text/plain": [
       "   column_1  column_2  column_3  column_4  column_5  column_6\n",
       "1  0.228069  0.768025  0.255003  0.173581  0.026552  0.134190\n",
       "2  0.305920     hello  0.741151  0.931652  0.492774  0.609283\n",
       "3  0.795731  0.712322  0.556251  0.564958  0.244052  0.181307\n",
       "4  0.291565  0.249773  0.367826  0.418874  0.097295  0.340270\n",
       "5  0.475128  0.295645  0.419654  0.737279  0.543015  0.504641\n",
       "6  0.871344  0.449376  0.376419  0.706180  0.850123  0.040081"
      ]
     },
     "execution_count": 33,
     "metadata": {},
     "output_type": "execute_result"
    }
   ],
   "source": [
    "df1"
   ]
  },
  {
   "cell_type": "code",
   "execution_count": 34,
   "id": "5b533cd0-72c0-42bd-97e1-77d9bf61f41a",
   "metadata": {},
   "outputs": [
    {
     "name": "stderr",
     "output_type": "stream",
     "text": [
      "/tmp/ipykernel_76/2053335143.py:1: FutureWarning: The default value of numeric_only in DataFrame.mean is deprecated. In a future version, it will default to False. In addition, specifying 'numeric_only=None' is deprecated. Select only valid columns or specify the value of numeric_only to silence this warning.\n",
      "  df1.mean()\n"
     ]
    },
    {
     "data": {
      "text/plain": [
       "column_1    0.494626\n",
       "column_3    0.452717\n",
       "column_4    0.588754\n",
       "column_5    0.375635\n",
       "column_6    0.301629\n",
       "dtype: float64"
      ]
     },
     "execution_count": 34,
     "metadata": {},
     "output_type": "execute_result"
    }
   ],
   "source": [
    "df1.mean()"
   ]
  },
  {
   "cell_type": "code",
   "execution_count": 42,
   "id": "369e344b-0874-4973-ac5b-cfa0e28c4c6a",
   "metadata": {},
   "outputs": [],
   "source": [
    "#df1['column_2'].mean()"
   ]
  },
  {
   "cell_type": "code",
   "execution_count": 39,
   "id": "99b5c3b7-e26f-4f2f-bdd7-3ef735bbf8ed",
   "metadata": {},
   "outputs": [
    {
     "data": {
      "text/plain": [
       "dtype('O')"
      ]
     },
     "execution_count": 39,
     "metadata": {},
     "output_type": "execute_result"
    }
   ],
   "source": [
    "df1['column_2'].dtype"
   ]
  },
  {
   "cell_type": "code",
   "execution_count": 40,
   "id": "5fc5f0ac-c88f-4375-95e8-9cd0b5088a48",
   "metadata": {},
   "outputs": [
    {
     "data": {
      "text/plain": [
       "dtype('float64')"
      ]
     },
     "execution_count": 40,
     "metadata": {},
     "output_type": "execute_result"
    }
   ],
   "source": [
    "df1['column_1'].dtype"
   ]
  },
  {
   "cell_type": "code",
   "execution_count": null,
   "id": "4e7d0d53-7749-4dc0-b41c-a0955223d087",
   "metadata": {},
   "outputs": [],
   "source": [
    "As we see df1['column_2'].dtype is dtype('O') which is mixed data type and mean can only performed for numerical value so if we try to find then get error that float and str cannot do concatination."
   ]
  },
  {
   "cell_type": "code",
   "execution_count": null,
   "id": "9c0f0ddc-061d-48f4-b0e4-02d098c8c1da",
   "metadata": {},
   "outputs": [],
   "source": [
    "Q6. What do you understand about the windows function in pandas and list the types of windows\n",
    "functions?"
   ]
  },
  {
   "cell_type": "code",
   "execution_count": null,
   "id": "39d6c5f2-04c1-4b75-b244-e37f889c6e29",
   "metadata": {},
   "outputs": [],
   "source": [
    "In pandas, a window function (also known as a rolling or moving function) is a powerful tool for performing calculations on a sliding window of data in a Series or DataFrame. \n",
    "Window functions in pandas are typically used in conjunction with the .rolling() method. \n",
    "This method creates a window that moves over the data, and you can then apply various aggregation functions to that window.\n",
    "Common aggregation functions include mean, sum, median, minimum, maximum, etc.\n",
    "\n",
    "Here are some types of window functions that you can apply using .rolling()\n",
    "1.Mean (mean())\n",
    "\n",
    "2.Sum (sum())\n",
    "\n",
    "3.Median (median())\n",
    "\n",
    "4.Minimum (min())\n",
    "\n",
    "5.Maximum (max())\n",
    "\n",
    "6.Standard Deviation (std())\n",
    "\n",
    "7.Variance (var())\n",
    "\n",
    "8.Count (count())\n",
    "\n",
    "9.Apply (apply(func))\n",
    "\n",
    "\n"
   ]
  },
  {
   "cell_type": "code",
   "execution_count": null,
   "id": "9463f236-608d-4386-bec1-fc4043c5fb55",
   "metadata": {},
   "outputs": [],
   "source": [
    "Q7. Write a code to print only the current month and year at the time of answering this question.\n",
    "[Hint: Use pandas.datetime function]"
   ]
  },
  {
   "cell_type": "code",
   "execution_count": 44,
   "id": "fd811323-25d6-4b09-9823-94ebbdd9b647",
   "metadata": {},
   "outputs": [
    {
     "data": {
      "text/html": [
       "<div>\n",
       "<style scoped>\n",
       "    .dataframe tbody tr th:only-of-type {\n",
       "        vertical-align: middle;\n",
       "    }\n",
       "\n",
       "    .dataframe tbody tr th {\n",
       "        vertical-align: top;\n",
       "    }\n",
       "\n",
       "    .dataframe thead th {\n",
       "        text-align: right;\n",
       "    }\n",
       "</style>\n",
       "<table border=\"1\" class=\"dataframe\">\n",
       "  <thead>\n",
       "    <tr style=\"text-align: right;\">\n",
       "      <th></th>\n",
       "      <th>current month</th>\n",
       "      <th>current year</th>\n",
       "    </tr>\n",
       "  </thead>\n",
       "  <tbody>\n",
       "    <tr>\n",
       "      <th>0</th>\n",
       "      <td>8</td>\n",
       "      <td>2023</td>\n",
       "    </tr>\n",
       "  </tbody>\n",
       "</table>\n",
       "</div>"
      ],
      "text/plain": [
       "   current month  current year\n",
       "0              8          2023"
      ]
     },
     "execution_count": 44,
     "metadata": {},
     "output_type": "execute_result"
    }
   ],
   "source": [
    "today=pd.Timestamp.now()\n",
    "df=pd.DataFrame({'current month':[today.month],\n",
    "                'current year':[today.year]})\n",
    "df"
   ]
  },
  {
   "cell_type": "code",
   "execution_count": null,
   "id": "cfa7fc46-7b4c-40f6-bf11-4c259019cbfe",
   "metadata": {},
   "outputs": [],
   "source": [
    "Q8. Write a Python program that takes in two dates as input (in the format YYYY-MM-DD) and\n",
    "calculates the difference between them in days, hours, and minutes using Pandas time delta. The\n",
    "program should prompt the user to enter the dates and display the result."
   ]
  },
  {
   "cell_type": "code",
   "execution_count": 50,
   "id": "0a12e8c2-8fc2-4dce-a001-f877b5c3ad7c",
   "metadata": {},
   "outputs": [
    {
     "name": "stdin",
     "output_type": "stream",
     "text": [
      " 2023-01-01\n",
      " 2023-02-20\n"
     ]
    },
    {
     "data": {
      "text/plain": [
       "Timedelta('50 days 00:00:00')"
      ]
     },
     "execution_count": 50,
     "metadata": {},
     "output_type": "execute_result"
    }
   ],
   "source": [
    "def pog():\n",
    "    a=pd.to_datetime(input())  \n",
    "    b=pd.to_datetime(input()) \n",
    "    t1=pd.Timedelta(days=0)\n",
    "    t=a+t1\n",
    "    t2=b+t1\n",
    "    ans=t2-t\n",
    "    return ans\n",
    "pog()"
   ]
  },
  {
   "cell_type": "code",
   "execution_count": null,
   "id": "5ac43f68-1b1f-4db1-96e5-78138d958126",
   "metadata": {},
   "outputs": [],
   "source": [
    "Q9. Write a Python program that reads a CSV file containing categorical data and converts a specified\n",
    "column to a categorical data type. The program should prompt the user to enter the file path, column\n",
    "name, and category order, and then display the sorted data."
   ]
  },
  {
   "cell_type": "code",
   "execution_count": null,
   "id": "d1638277-411c-4f79-a1e6-92a2e7dc7c4e",
   "metadata": {},
   "outputs": [],
   "source": [
    "import pandas as pd\n",
    "def cat():\n",
    "    file_path = input(\"Enter the CSV file path: \")\n",
    "    column_name = input(\"Enter the column name to convert to categorical: \")\n",
    "    category_order = input(\"Enter the category order (comma-separated): \").split(',')\n",
    "    df = pd.read_csv(file_path)\n",
    "    df[column_name] = pd.Categorical(df[column_name], categories=category_order, ordered=True)\n",
    "    sorted_df = df.sort_values(by=column_name)\n",
    "    return sorted_df\n"
   ]
  },
  {
   "cell_type": "code",
   "execution_count": null,
   "id": "10023c4f-2c27-4a36-a7f2-6d98ff8cdf3e",
   "metadata": {},
   "outputs": [],
   "source": [
    "Q10. Write a Python program that reads a CSV file containing sales data for different products and\n",
    "visualizes the data using a stacked bar chart to show the sales of each product category over time. The\n",
    "program should prompt the user to enter the file path and display the chart."
   ]
  },
  {
   "cell_type": "code",
   "execution_count": null,
   "id": "17b224b0-c41f-4fa2-9b5f-0fc9b2fd8142",
   "metadata": {},
   "outputs": [],
   "source": [
    "def plotes():\n",
    "    file_path = input(\"Enter the CSV file path: \")\n",
    "    df = pd.read_csv(file_path)\n",
    "    df = pd.DataFrame(data)\n",
    "    df['Date'] = pd.to_datetime(df['Date'])\n",
    "    return df.plot.bar(x='Date',y='Sales')\n",
    "    "
   ]
  },
  {
   "cell_type": "code",
   "execution_count": 53,
   "id": "98d30adf-6f59-4d0b-a49c-baa0069958bc",
   "metadata": {},
   "outputs": [
    {
     "data": {
      "text/plain": [
       "<AxesSubplot: xlabel='Date'>"
      ]
     },
     "execution_count": 53,
     "metadata": {},
     "output_type": "execute_result"
    },
    {
     "data": {
      "image/png": "[encoded data removed]",
      "text/plain": [
       "<Figure size 640x480 with 1 Axes>"
      ]
     },
     "metadata": {},
     "output_type": "display_data"
    }
   ],
   "source": [
    "#example\n",
    "import pandas as pd\n",
    "data = {\n",
    "    'Date': ['2023-08-01', '2023-08-01', '2023-08-02', '2023-08-02'],\n",
    "    'Category': ['Electronics', 'Clothing', 'Electronics', 'Clothing'],\n",
    "    'Sales': [150, 50, 200, 80]\n",
    "}\n",
    "df = pd.DataFrame(data)\n",
    "df['Date'] = pd.to_datetime(df['Date'])\n",
    "df.plot.bar(x='Date',y='Sales')"
   ]
  },
  {
   "cell_type": "code",
   "execution_count": null,
   "id": "438fcb3d-5c77-4416-bd58-3c36ef42b126",
   "metadata": {},
   "outputs": [],
   "source": [
    "Q11. You are given a CSV file containing student data that includes the student ID and their test score. Write\n",
    "a Python program that reads the CSV file, calculates the mean, median, and mode of the test scores, and\n",
    "displays the results in a table."
   ]
  },
  {
   "cell_type": "code",
   "execution_count": 65,
   "id": "5e9cd8b9-67a1-4b9e-ad70-b6ce03aee033",
   "metadata": {},
   "outputs": [],
   "source": [
    "pd.set_option('display.max_colwidth',500)\n",
    "def data():\n",
    "    file_path = input(\"Enter the CSV file path: \")\n",
    "    df = pd.read_csv(file_path)\n",
    "    mean_test=df['test_score'].mean()\n",
    "    median_test=df['test_score'].median()\n",
    "    mode_test=list(df['test_score'].mode())\n",
    "    result=pd.DataFrame({'mean_test':[mean_test],'median_test':[median_test],'mode_test':[mode_test]})\n",
    "    return result\n"
   ]
  },
  {
   "cell_type": "code",
   "execution_count": 67,
   "id": "e33800a5-25af-47e0-8486-4b753fcd0ce4",
   "metadata": {},
   "outputs": [
    {
     "data": {
      "text/html": [
       "<div>\n",
       "<style scoped>\n",
       "    .dataframe tbody tr th:only-of-type {\n",
       "        vertical-align: middle;\n",
       "    }\n",
       "\n",
       "    .dataframe tbody tr th {\n",
       "        vertical-align: top;\n",
       "    }\n",
       "\n",
       "    .dataframe thead th {\n",
       "        text-align: right;\n",
       "    }\n",
       "</style>\n",
       "<table border=\"1\" class=\"dataframe\">\n",
       "  <thead>\n",
       "    <tr style=\"text-align: right;\">\n",
       "      <th></th>\n",
       "      <th>mean_test</th>\n",
       "      <th>median_test</th>\n",
       "      <th>mode_test</th>\n",
       "    </tr>\n",
       "  </thead>\n",
       "  <tbody>\n",
       "    <tr>\n",
       "      <th>0</th>\n",
       "      <td>87.6</td>\n",
       "      <td>88.0</td>\n",
       "      <td>[78, 85, 88, 92, 95]</td>\n",
       "    </tr>\n",
       "  </tbody>\n",
       "</table>\n",
       "</div>"
      ],
      "text/plain": [
       "   mean_test  median_test             mode_test\n",
       "0       87.6         88.0  [78, 85, 88, 92, 95]"
      ]
     },
     "execution_count": 67,
     "metadata": {},
     "output_type": "execute_result"
    }
   ],
   "source": [
    "#example\n",
    "import pandas as pd\n",
    "pd.set_option('display.max_colwidth',500)\n",
    "data = {\n",
    "    'Student ID': [101, 102, 103, 104, 105],\n",
    "    'test_score': [85, 92, 78, 95, 88]\n",
    "}\n",
    "df = pd.DataFrame(data)\n",
    "mean_test=df['test_score'].mean()\n",
    "median_test=df['test_score'].median()\n",
    "mode_test=list(df['test_score'].mode())\n",
    "result=pd.DataFrame({'mean_test':[mean_test],'median_test':[median_test],'mode_test':[mode_test]})\n",
    "result\n"
   ]
  },
  {
   "cell_type": "code",
   "execution_count": null,
   "id": "bd4932e4-abc7-49a9-ae9e-c5b7ea110834",
   "metadata": {},
   "outputs": [],
   "source": []
  },
  {
   "cell_type": "code",
   "execution_count": null,
   "id": "b629ebef-7ec8-4112-9811-586902a8b9db",
   "metadata": {},
   "outputs": [],
   "source": []
  }
 ],
 "metadata": {
  "kernelspec": {
   "display_name": "Python 3 (ipykernel)",
   "language": "python",
   "name": "python3"
  },
  "language_info": {
   "codemirror_mode": {
    "name": "ipython",
    "version": 3
   },
   "file_extension": ".py",
   "mimetype": "text/x-python",
   "name": "python",
   "nbconvert_exporter": "python",
   "pygments_lexer": "ipython3",
   "version": "3.10.8"
  }
 },
 "nbformat": 4,
 "nbformat_minor": 5
}
